{
 "cells": [
  {
   "cell_type": "markdown",
   "id": "2b5a8a12",
   "metadata": {},
   "source": [
    "### Student Name: Tan Thien Nguyen - C00278719\n",
    "### 4. Modeling  <a class=\"anchor\" id=\"4-bullet\"></a>\n",
    "4.1. [Data Preprocessing](#4.1-bullet)\n",
    "\n",
    "4.2. [Feature Vectorizing - Bag of Words](#4.2-bullet)\n",
    "\n",
    "4.3. [Select Modeling technique](#4.3-bullet)\n",
    "  \n",
    "4.4. [Generate Test Design](#4.4-bullet)\n",
    "\n",
    "4.5. [Build Model](#4.5-bullet)\n",
    "\n",
    "4.6. [Assess Model](#4.6-bullet)\n",
    "\n",
    "### 5. Evaluation  <a class=\"anchor\" id=\"5-bullet\"></a>\n",
    "5.1. [Evaluate the results](#5.1-bullet)\n",
    "\n",
    "5.2. [Review Process](#5.2-bullet)\n",
    "\n",
    "5.3. [Determine next steps](#5.3-bullet)\n",
    "\n",
    "---------------------------------------------------------"
   ]
  },
  {
   "cell_type": "markdown",
   "id": "e4931a4e",
   "metadata": {},
   "source": [
    "#### Import library and Create transform methods"
   ]
  },
  {
   "cell_type": "code",
   "execution_count": 1,
   "id": "299ead7e",
   "metadata": {},
   "outputs": [],
   "source": [
    "import pandas as pd\n",
    "import numpy as np\n",
    "import matplotlib.pyplot as plt\n",
    "import re\n",
    "import string\n",
    "import nltk\n",
    "\n",
    "from sklearn.model_selection import train_test_split\n",
    "from sklearn.feature_extraction.text import CountVectorizer\n",
    "from sklearn.feature_extraction.text import TfidfTransformer\n",
    "from sklearn.feature_extraction.text import TfidfVectorizer\n",
    "from sklearn.metrics import confusion_matrix, ConfusionMatrixDisplay\n",
    "from sklearn.metrics import classification_report, accuracy_score, f1_score, recall_score, precision_score\n",
    "from sklearn.linear_model import LogisticRegression\n",
    "from sklearn.svm import LinearSVC"
   ]
  },
  {
   "cell_type": "markdown",
   "id": "6faede16",
   "metadata": {},
   "source": [
    "## 4. Modeling  <a class=\"anchor\" id=\"4-bullet\"></a>\n",
    "### 4.1. Data Preprocessing <a class=\"anchor\" id=\"4.1-bullet\"></a>\n",
    "Basically, in the CRISP-DM model design, This part will be implemented in phase 03. Data Preparation. However, to make it easy to follow up and do necessary tests, I move the part Data Preprocessing to phase 04. Modeling in this notebook. This part will do the followings:\n",
    "\n",
    "- **Feature Selection**\n",
    "\n",
    "Only necessary features used in modeling will be selected. In particular, cleanText feature and target variable, ratingClass are selected. We will go into detail about Target variable descriptive statistics and encode it.\n",
    "\n",
    "- **Split train set and test set**\n",
    "\n",
    "We have 450863 observations in the dataset.  We do this step first so that we can ensure the test set is as unbiased as it can be and reflects a true evaluation of the model.\n",
    "If we balance data before splitting, this might introduce bias in the test set where a few data points in the test set are synthetically generated and well-known from the training set.\n"
   ]
  },
  {
   "cell_type": "markdown",
   "id": "e19a1ddd",
   "metadata": {},
   "source": [
    "### Feature Selection"
   ]
  },
  {
   "cell_type": "code",
   "execution_count": 2,
   "id": "b8e42b46",
   "metadata": {},
   "outputs": [],
   "source": [
    "# Load data\n",
    "df_model_raw = pd.read_json('Output/reviewPreprocessing.json', lines=True)\n",
    "\n",
    "# Select feature\n",
    "df_model = df_model_raw[['cleanText','ratingClass']].copy()"
   ]
  },
  {
   "cell_type": "code",
   "execution_count": 3,
   "id": "92248a53",
   "metadata": {},
   "outputs": [
    {
     "name": "stdout",
     "output_type": "stream",
     "text": [
      "<class 'pandas.core.frame.DataFrame'>\n",
      "RangeIndex: 450863 entries, 0 to 450862\n",
      "Data columns (total 2 columns):\n",
      " #   Column       Non-Null Count   Dtype \n",
      "---  ------       --------------   ----- \n",
      " 0   cleanText    450863 non-null  object\n",
      " 1   ratingClass  450863 non-null  object\n",
      "dtypes: object(2)\n",
      "memory usage: 6.9+ MB\n"
     ]
    }
   ],
   "source": [
    "# Verify data types and non-null values\n",
    "df_model.info()"
   ]
  },
  {
   "cell_type": "code",
   "execution_count": 4,
   "id": "72b09417",
   "metadata": {},
   "outputs": [
    {
     "data": {
      "text/html": [
       "<div>\n",
       "<style scoped>\n",
       "    .dataframe tbody tr th:only-of-type {\n",
       "        vertical-align: middle;\n",
       "    }\n",
       "\n",
       "    .dataframe tbody tr th {\n",
       "        vertical-align: top;\n",
       "    }\n",
       "\n",
       "    .dataframe thead th {\n",
       "        text-align: right;\n",
       "    }\n",
       "</style>\n",
       "<table border=\"1\" class=\"dataframe\">\n",
       "  <thead>\n",
       "    <tr style=\"text-align: right;\">\n",
       "      <th></th>\n",
       "      <th>cleanText</th>\n",
       "      <th>ratingClass</th>\n",
       "    </tr>\n",
       "  </thead>\n",
       "  <tbody>\n",
       "    <tr>\n",
       "      <th>0</th>\n",
       "      <td>materials arrive early excellent condition how...</td>\n",
       "      <td>Good</td>\n",
       "    </tr>\n",
       "    <tr>\n",
       "      <th>1</th>\n",
       "      <td>really enjoy book worksheets make review goals...</td>\n",
       "      <td>Good</td>\n",
       "    </tr>\n",
       "    <tr>\n",
       "      <th>2</th>\n",
       "      <td>take class dont waste money call book 14000 bo...</td>\n",
       "      <td>Bad</td>\n",
       "    </tr>\n",
       "    <tr>\n",
       "      <th>3</th>\n",
       "      <td>book miss page important page couldnt answer t...</td>\n",
       "      <td>Bad</td>\n",
       "    </tr>\n",
       "    <tr>\n",
       "      <th>4</th>\n",
       "      <td>use learnsmart officially say amaze study tool...</td>\n",
       "      <td>Good</td>\n",
       "    </tr>\n",
       "  </tbody>\n",
       "</table>\n",
       "</div>"
      ],
      "text/plain": [
       "                                           cleanText ratingClass\n",
       "0  materials arrive early excellent condition how...        Good\n",
       "1  really enjoy book worksheets make review goals...        Good\n",
       "2  take class dont waste money call book 14000 bo...         Bad\n",
       "3  book miss page important page couldnt answer t...         Bad\n",
       "4  use learnsmart officially say amaze study tool...        Good"
      ]
     },
     "execution_count": 4,
     "metadata": {},
     "output_type": "execute_result"
    }
   ],
   "source": [
    "# View data sample\n",
    "df_model.head(5)"
   ]
  },
  {
   "cell_type": "markdown",
   "id": "74f462e2",
   "metadata": {},
   "source": [
    "#### Target Variable Decriptive Statistics"
   ]
  },
  {
   "cell_type": "code",
   "execution_count": 5,
   "id": "9bbf12f6",
   "metadata": {},
   "outputs": [
    {
     "data": {
      "image/png": "[encoded data removed]",
      "text/plain": [
       "<Figure size 432x288 with 1 Axes>"
      ]
     },
     "metadata": {
      "needs_background": "light"
     },
     "output_type": "display_data"
    }
   ],
   "source": [
    "colors_list = ['#d9534f', '#5cb85c']\n",
    "df_model['ratingClass'].value_counts().sort_index().plot(kind='bar', color=colors_list)\n",
    "plt.title('The number of reviews by Rating Class')\n",
    "plt.xlabel('Rating Class')\n",
    "plt.xticks(rotation=0)\n",
    "plt.ylabel('Number of Reviews')\n",
    "plt.grid(axis = 'y', linestyle = '--', linewidth = 0.5)\n",
    "plt.show()"
   ]
  },
  {
   "cell_type": "code",
   "execution_count": 6,
   "id": "1b6d3733",
   "metadata": {},
   "outputs": [
    {
     "data": {
      "text/plain": [
       "Good    62.0\n",
       "Bad     38.0\n",
       "Name: ratingClass, dtype: float64"
      ]
     },
     "execution_count": 6,
     "metadata": {},
     "output_type": "execute_result"
    }
   ],
   "source": [
    "# Percentage of rating class \n",
    "round(df_model['ratingClass'].value_counts() * 100 / df_model['ratingClass'].count(),0)"
   ]
  },
  {
   "cell_type": "code",
   "execution_count": 7,
   "id": "e8b285e2",
   "metadata": {},
   "outputs": [
    {
     "data": {
      "image/png": "[encoded data removed]",
      "text/plain": [
       "<Figure size 432x288 with 1 Axes>"
      ]
     },
     "metadata": {
      "needs_background": "light"
     },
     "output_type": "display_data"
    },
    {
     "name": "stdout",
     "output_type": "stream",
     "text": [
      "The dataset is imbalanced but not so serious\n"
     ]
    }
   ],
   "source": [
    "colors_list = ['#d9534f', '#5cb85c']\n",
    "t = round(df_model['ratingClass'].value_counts() * 100 / df_model['ratingClass'].count(),0)\n",
    "t.sort_index().plot(kind='bar', color=colors_list)\n",
    "plt.title('% of Rating Class')\n",
    "plt.xlabel('Rating Class')\n",
    "plt.xticks(rotation=0)\n",
    "plt.ylabel('%')\n",
    "plt.grid(axis = 'y', linestyle = '--', linewidth = 0.5)\n",
    "plt.show()\n",
    "print(\"The dataset is imbalanced but not so serious\")"
   ]
  },
  {
   "cell_type": "markdown",
   "id": "5588c36e",
   "metadata": {},
   "source": [
    "#### Encode Target Variable"
   ]
  },
  {
   "cell_type": "code",
   "execution_count": 8,
   "id": "a23098c8",
   "metadata": {},
   "outputs": [],
   "source": [
    "model = df_model.copy()\n",
    "model['ratingClass'] = model['ratingClass'].apply(lambda x: 0 if x == 'Bad' else 1)"
   ]
  },
  {
   "cell_type": "markdown",
   "id": "569e9ece",
   "metadata": {},
   "source": [
    "####  Separate Target Variable and Feature"
   ]
  },
  {
   "cell_type": "code",
   "execution_count": 9,
   "id": "c60b4329",
   "metadata": {},
   "outputs": [],
   "source": [
    "X = model['cleanText']\n",
    "y = model['ratingClass']"
   ]
  },
  {
   "cell_type": "markdown",
   "id": "7405c59a",
   "metadata": {},
   "source": [
    "### Split the training set and test set\n",
    "In this part, we will use the train_test_split transformer in the scikit-learn library to split the training set and test set. \n",
    "\n",
    "- Total of observations: 458863. \n",
    "- ***test_size=0.25*** : We will split the training set and test set with the ratio 75:25 \n",
    "- ***stratify=y*** : to make stratified sampling. \n",
    "The reason for this is to make sure that the test set is representative of various categories in the whole dataset and to preserve the same proportions of examples in each category observed in the original dataset. \n",
    "\n",
    "- ***random_state=42*** : to reproduce the same training set and test set every time we do the split.\n"
   ]
  },
  {
   "cell_type": "code",
   "execution_count": 10,
   "id": "606b77fc",
   "metadata": {},
   "outputs": [],
   "source": [
    "# Splitting Dataset into train and test set \n",
    "X_train, X_test, y_train, y_test = train_test_split(X, y, test_size=0.25, stratify=y, random_state=42)"
   ]
  },
  {
   "cell_type": "code",
   "execution_count": 11,
   "id": "fbe43b14",
   "metadata": {},
   "outputs": [
    {
     "name": "stdout",
     "output_type": "stream",
     "text": [
      "Training Set\t:(338147,)\n",
      "Test Set\t:(112716,)\n"
     ]
    }
   ],
   "source": [
    "# Summary of training set and test set\n",
    "print ('Training Set\\t:{}\\nTest Set\\t:{}'.format(X_train.shape, X_test.shape))"
   ]
  },
  {
   "cell_type": "code",
   "execution_count": 12,
   "id": "4d9a8281",
   "metadata": {},
   "outputs": [
    {
     "data": {
      "text/plain": [
       "1    210484\n",
       "0    127663\n",
       "Name: ratingClass, dtype: int64"
      ]
     },
     "execution_count": 12,
     "metadata": {},
     "output_type": "execute_result"
    }
   ],
   "source": [
    "# ratingclass in the training set\n",
    "y_train.value_counts()"
   ]
  },
  {
   "cell_type": "code",
   "execution_count": 13,
   "id": "fe92275c",
   "metadata": {},
   "outputs": [
    {
     "data": {
      "text/plain": [
       "1    62.0\n",
       "0    38.0\n",
       "Name: ratingClass, dtype: float64"
      ]
     },
     "execution_count": 13,
     "metadata": {},
     "output_type": "execute_result"
    }
   ],
   "source": [
    "# Percentage of rating class \n",
    "round(y_train.value_counts() * 100 / y_train.count(),0)"
   ]
  },
  {
   "cell_type": "code",
   "execution_count": 14,
   "id": "254d7e27",
   "metadata": {},
   "outputs": [
    {
     "data": {
      "text/plain": [
       "1    70161\n",
       "0    42555\n",
       "Name: ratingClass, dtype: int64"
      ]
     },
     "execution_count": 14,
     "metadata": {},
     "output_type": "execute_result"
    }
   ],
   "source": [
    "# ratingclass in the test set\n",
    "y_test.value_counts()"
   ]
  },
  {
   "cell_type": "code",
   "execution_count": 15,
   "id": "4b7bcbf7",
   "metadata": {},
   "outputs": [
    {
     "data": {
      "text/plain": [
       "1    62.0\n",
       "0    38.0\n",
       "Name: ratingClass, dtype: float64"
      ]
     },
     "execution_count": 15,
     "metadata": {},
     "output_type": "execute_result"
    }
   ],
   "source": [
    "# Percentage of rating class \n",
    "round(y_test.value_counts() * 100 / y_test.count(),0)"
   ]
  },
  {
   "cell_type": "markdown",
   "id": "8f5acb9e",
   "metadata": {},
   "source": [
    "#### We completed splitting the training set and the test set. Now, we can forget the test set until the evaluation phase and just focus on the training set."
   ]
  },
  {
   "cell_type": "markdown",
   "id": "59c490fe",
   "metadata": {},
   "source": [
    "### 4.2. Feature Vectorizing - Bags of Words (TF-IDF) <a class=\"anchor\" id=\"4.2-bullet\"></a>\n",
    "\n",
    "Most algorithms require numerical features, so we need to transform the string representation of the text\n",
    "into a numeric representation that we can apply our machine learning algorithms to. Therefore, we implement the vectorization process to turn a collection of text documents into numerical feature vectors. This specific strategy (tokenization, counting, and normalization) is called the ***Bag of Words or “Bag of n-grams”*** representation (Andrea and Sarah, 2017, Scikit-learn Developers, 2022).\n",
    "\n",
    "The most popular vectorizer in scikit-learn is ***CountVectorizer***. CountVectorizer is a transformer in scikit-learn which implements bag-of-words representation. However, CountVectorizer only counts the number of times a word appears in a document. This will result in bias in favour of the most frequent words and lead to ignoring other meaningful words in the document (Andrea and Sarah, 2017, Medium, 2022). \n",
    "\n",
    "To overcome this, we use ***TfidfTransformer- Term Frequency Inverse Document Frequency (TF-IDF)***. TF-IDF is a measure of a word by comparing the number of times a word appears in a document with the number of documents the word appears in. ***Term Frequency (TF)*** enlists the number of times the words present in the entire dataset occur in the different sentences. And ***Inverse Document Frequency (IDF)*** aims to reflect the importance of a word in a document in a collection or corpus (Medium, 2022). In more detail, using TF-IDF to give high weight to any term that often appears in a particular document but not in many documents in the corpus. If a word often appears in a particular document but not in very many documents, it is likely to be very descriptive of the content of that document (Andrea and Sarah, 2017).\n",
    "\n",
    "We can use ***TfidfTransformer***, which takes in the sparse matrix output produced by CountVectorizer and transforms it, and ***TfidfVectorizer***, which takes in the text data and does both the bag-of-words feature extraction and the tf–idf  transformation (Andrea and Sarah, 2017).\n",
    "\n",
    "There is a note that CountVectorizer could do removing stopwords, lowercase, and remove punctuation which we did in 03. Data Preparation. So, the question is why we don't do that using CountVectorizer but using manual functions. The reasons are:\n",
    "- Stopwords used in CountVectorizer is 318. It contains a lot of meaningful words. So, we used the stopwords list in NLK library 179.\n",
    "- To generate the WordCloud, we should use lowercase to minimize the frequency of single words like 'house', 'House', ' HOUSE'\n",
    "- CountVectorizer cannot remove all punctuation and html tags.\n"
   ]
  },
  {
   "cell_type": "markdown",
   "id": "4aae84a0",
   "metadata": {},
   "source": [
    "#### Apply TFIDF Vectorizer to the training set"
   ]
  },
  {
   "cell_type": "code",
   "execution_count": 16,
   "id": "9b17c094",
   "metadata": {},
   "outputs": [],
   "source": [
    "# Apply Tfidf Vectorizer\n",
    "tf_idf_vectorizer = TfidfVectorizer()\n",
    "X_train_tf_idf = tf_idf_vectorizer.fit_transform(X_train)"
   ]
  },
  {
   "cell_type": "code",
   "execution_count": 17,
   "id": "9fbe2263",
   "metadata": {},
   "outputs": [
    {
     "name": "stdout",
     "output_type": "stream",
     "text": [
      "Vocabulary size: 319790\n"
     ]
    }
   ],
   "source": [
    "# Check Vocabulary size\n",
    "print(\"Vocabulary size: {}\".format(len(tf_idf_vectorizer.vocabulary_)))"
   ]
  },
  {
   "cell_type": "code",
   "execution_count": 18,
   "id": "d5dba36b",
   "metadata": {},
   "outputs": [
    {
     "name": "stdout",
     "output_type": "stream",
     "text": [
      "<class 'scipy.sparse.csr.csr_matrix'>\n"
     ]
    },
    {
     "data": {
      "text/plain": [
       "(338147, 319790)"
      ]
     },
     "execution_count": 18,
     "metadata": {},
     "output_type": "execute_result"
    }
   ],
   "source": [
    "# Type and shape of vectorized text data \n",
    "print(type(X_train_tf_idf))\n",
    "X_train_tf_idf.shape"
   ]
  },
  {
   "cell_type": "markdown",
   "id": "2df4e36a",
   "metadata": {},
   "source": [
    "##### As we can see, vectorized text data is a scipy sparse 338147x319790 matrices. It is impossible to print out this matrices. So, we will try to print out some features with lowest and highest tf-idf"
   ]
  },
  {
   "cell_type": "code",
   "execution_count": 19,
   "id": "53e47a07",
   "metadata": {},
   "outputs": [
    {
     "name": "stdout",
     "output_type": "stream",
     "text": [
      "Features with lowest tfidf:\n",
      "['gupta243' 'ssaleslivepersonnethc77038303cmdfilefilechattemplates'\n",
      " 'penelopecarpenterymailcom' '265458' 'updatedyour' '17913380'\n",
      " 'twkdtgpqkjbgk62kmyyrg33rm' '09162014' '21621' '55621' '05621' '00121'\n",
      " '15621' '55121' '2904' '2906' '2907' '2912' '05121' '2917']\n",
      "\n",
      "Features with highest tfidf: \n",
      "['difficultif' 'aokaok' 'satisfy' 'nicegreat' 'nicelove' 'jobrefund'\n",
      " 'nicenice' 'appkindle' 'uselessuseless' 'jobvista' 'niceok' 'garmin'\n",
      " 'crapjunk' 'crapcrap' 'crackedcracked' 'soso' 'nicetry' 'expirenorton'\n",
      " 'junkbad' 'wantedcalc']\n"
     ]
    }
   ],
   "source": [
    "# find maximum value for each of the features over the dataset\n",
    "max_value = X_train_tf_idf.max(axis=0).toarray().ravel()\n",
    "sorted_by_tfidf = max_value.argsort()\n",
    "\n",
    "# get feature names\n",
    "feature_names = np.array(tf_idf_vectorizer.get_feature_names_out())\n",
    "\n",
    "# Show the feature with lowest and highest tfidf\n",
    "print(\"Features with lowest tfidf:\\n{}\".format(feature_names[sorted_by_tfidf[:20]]))\n",
    "\n",
    "print(\"\\nFeatures with highest tfidf: \\n{}\".format(feature_names[sorted_by_tfidf[-20:]]))"
   ]
  },
  {
   "cell_type": "markdown",
   "id": "f8bc5bf9",
   "metadata": {},
   "source": [
    "#### Transform the Test set"
   ]
  },
  {
   "cell_type": "code",
   "execution_count": 20,
   "id": "5ab5e00b",
   "metadata": {},
   "outputs": [],
   "source": [
    "# Transform the test set\n",
    "X_test_tf_idf = tf_idf_vectorizer.transform(X_test)"
   ]
  },
  {
   "cell_type": "markdown",
   "id": "7a261d52",
   "metadata": {},
   "source": [
    "### 4.3. Select Modeling technique <a class=\"anchor\" id=\"4.3-bullet\"></a>"
   ]
  },
  {
   "cell_type": "markdown",
   "id": "5d7f1969",
   "metadata": {},
   "source": [
    "Choosing the right model is a tricky part. One of our data mining goals is to predict categorical customer ratings based on labeled reviews. Therefore, we select a classification algorithm, one of the supervised machine learning algorithms.\n",
    "\n",
    "From the literature review (Andreas and Sarah, 2017, Aurelien, 2019, Medium, 2022):\n",
    "\n",
    "**K-NN classifier** is easy to understand but does particularly badly with datasets with many features and not often used in practice. \n",
    "\n",
    "**Kernelized SVMs** don’t scale very well with the number of samples. Running an SVM on data with up to 10,000 samples might work well, but working with datasets of size 100,000 or more can become challenging in terms of runtime and memory usage.\n",
    "\n",
    "**Decision trees** work well when we have features that are on completely different scales or a mix of binary and continuous features, but this algorithm tends to overfit and provide poor generalization performance.\n",
    "\n",
    "**Random forests** don’t tend to perform well on very high dimensional, sparse data, such as text data. For this kind of data, linear models might be more appropriate.\n",
    "\n",
    "**Naive Bayes classifiers** are a family of classifiers that are quite similar to the linear models discussed in the previous section. However, they tend to be even faster in training. The reason that naive Bayes models are so efficient is that they learn parameters by looking at each feature individually and collect simple per-class statistics from each feature. The price paid for this efficiency is that naive Bayes models often provide generalization performance that is slightly worse than that of linear classifiers like LogisticRegression and LinearSVC. For high-dimensional, sparse data like this, linear models like LogisticRegression and LinearSVC often work best.\n",
    "\n",
    "\n",
    "I decided to select **Linear Support Vector Classification (LinearSVC)** to build the model for predicting rating class based on reviews. Besides, I also use the **LogisticRegression** model as a reference model for performance comparison.\n"
   ]
  },
  {
   "cell_type": "markdown",
   "id": "bf418519",
   "metadata": {},
   "source": [
    "#### Setting up Parameters for linear models"
   ]
  },
  {
   "cell_type": "markdown",
   "id": "0bf8b133",
   "metadata": {},
   "source": [
    "Building a model that is too complex will lead to overfitting. It means that our model is too close to the particularities of the training set, but it is not able to generalize well to new data, the test set. On the other hand, if our model is too simple, it may not be able to capture all variability of the data and lead to bad generalization on the training set or underfitting. The trade-off between overfitting and underfitting is expected to be resolved by figuring out a sweet pot that is controlled by parameters (Andreas and Sarah, 2017).\n",
    "\n",
    "**C** is the trade-off parameter that determines the strength of the regularization. A high value of C means that the model tries to fit the training set as best as possible. With a low value of C, the model put more emphasis on finding a coefficient vector that is close to zero. C is usually has 6 value options (0.001, 0.01, 0.1, 1, 10, 100). In this project, we set C = 1 as default to evaluate the performance.\n",
    "\n",
    "**class_weight = \"balanced\"** : so that the model can automatically assign the class weights inversely proportional to their respective frequencies. For example, in our dataset:\n",
    "\n",
    "n samples = 338147\n",
    "\n",
    "class 0 =  127663 \n",
    "\n",
    "Weights for class 0: w0 =  338147/(2*127663) = 1.324\n",
    "\n",
    "class 1 =  210484\n",
    "\n",
    "Weights for class 1: w1 = 338147/(2*210484) = 0.803\n"
   ]
  },
  {
   "cell_type": "code",
   "execution_count": 21,
   "id": "5620e5fd",
   "metadata": {},
   "outputs": [],
   "source": [
    "# Logistic Regression model\n",
    "logreg = LogisticRegression(C=1, max_iter=1000, class_weight = \"balanced\")\n",
    "\n",
    "# Linear Support Vector Classification model\n",
    "svc = LinearSVC(C=1, max_iter=1000, class_weight = \"balanced\")"
   ]
  },
  {
   "cell_type": "markdown",
   "id": "bceae359",
   "metadata": {},
   "source": [
    "### 4.4. Generate Test Design <a class=\"anchor\" id=\"4.4-bullet\"></a>"
   ]
  },
  {
   "cell_type": "markdown",
   "id": "c098eecb",
   "metadata": {},
   "source": [
    "#### Select the Right Evaluation Metric\n",
    "##### Confusion Matrix\n",
    "Our machine learning problem is a binary classification problem. One of the most comprehensive ways to represent the result of evaluation for binary classification problems is using confusion matrices (Andreas and Sarah, 2017, Aurelien, 2019). \n",
    "\n",
    "Confusion matrix for binary classification is a 2x2 array where rows correspond to the true class (y_test), and the columns correspond to the predicted class (y_pred).\n",
    "\n",
    "##### Accuracy, Precision, Recall, and F1-score\n",
    "- Accuracy is the number of correct predictions divided by the number of all samples = (TN+TP) / (TN+TP+FN+FP)\n",
    "- Precision measures how many of the samples are predicted as positive as actually positive = TP / (TP+FP). If Precision is high, FP has to be small. So, Precision is useful when we want to limit the number of false positives.\n",
    "- Recall, on the other hand, = TP / (TP + FN),  measures how many of the positive samples are captured by the positive predictions. Recall is useful when we need to avoid FN \n",
    "- F-score is the harmonic mean of precision and recall, is used to provide the full picture = 2(Precision.Recall) / (Precision+Recall)\n"
   ]
  },
  {
   "cell_type": "markdown",
   "id": "decc05dd",
   "metadata": {},
   "source": [
    "#### Classification Report\n",
    "If we just use the Confusion Matrices or calculate Precision, Recall, and F1-score separately, we need to define which class is positive. However, there is an easier method to get all of these metrics in one shot by using a classification report.\n",
    "\n",
    "***classification_report*** is a library in scikit-learn that allows us to have a comprehensive summary of precision, recall, and f1-score.\n",
    "\n",
    "Since our dataset is imbalanced, Precision, Recall, and F1-score are better measuring than accuracy. And we will pay a bit more attention to the minority class, which is a bad rating class (class 0).\n"
   ]
  },
  {
   "cell_type": "markdown",
   "id": "a45b2ca0",
   "metadata": {},
   "source": [
    "### 4.5. Build model <a class=\"anchor\" id=\"4.5-bullet\"></a>"
   ]
  },
  {
   "cell_type": "markdown",
   "id": "8cb64c7d",
   "metadata": {},
   "source": [
    "#### Build a function to model and evaluate in one shot"
   ]
  },
  {
   "cell_type": "code",
   "execution_count": 22,
   "id": "104f15df",
   "metadata": {},
   "outputs": [],
   "source": [
    "def modeling_evaluation(model, X_train, X_test):\n",
    "    y_pred = model.predict(X_test)\n",
    "    y_pred_train = model.predict(X_train)\n",
    "    print(\"------ Confusion Matrix ------\\n\")\n",
    "    print(confusion_matrix(y_test, y_pred))\n",
    "    ConfusionMatrixDisplay.from_estimator(model, X_test, y_test)\n",
    "    plt.show()\n",
    "    print(\"\\n\")\n",
    "    print(\"---- Classification report for Training Set -----\\n\")\n",
    "    print(classification_report(y_train,y_pred_train))\n",
    "    print(\"\\n\")\n",
    "    print(\"---- Classification report for Test Set -----\\n\")\n",
    "    print(classification_report(y_test,y_pred))"
   ]
  },
  {
   "cell_type": "markdown",
   "id": "90a7d7f9",
   "metadata": {},
   "source": [
    "#### Fit Logistic Regression Model to the training set"
   ]
  },
  {
   "cell_type": "code",
   "execution_count": 23,
   "id": "cad683d0",
   "metadata": {},
   "outputs": [
    {
     "data": {
      "text/plain": [
       "LogisticRegression(C=1, class_weight='balanced', max_iter=1000)"
      ]
     },
     "execution_count": 23,
     "metadata": {},
     "output_type": "execute_result"
    }
   ],
   "source": [
    "logreg.fit(X_train_tf_idf,y_train)"
   ]
  },
  {
   "cell_type": "markdown",
   "id": "aaffaa96",
   "metadata": {},
   "source": [
    "#### Fit Linear Support Vector Classification Model to the training set"
   ]
  },
  {
   "cell_type": "code",
   "execution_count": 24,
   "id": "a44c2ca9",
   "metadata": {},
   "outputs": [
    {
     "data": {
      "text/plain": [
       "LinearSVC(C=1, class_weight='balanced')"
      ]
     },
     "execution_count": 24,
     "metadata": {},
     "output_type": "execute_result"
    }
   ],
   "source": [
    "svc.fit(X_train_tf_idf,y_train)"
   ]
  },
  {
   "cell_type": "markdown",
   "id": "bebd3018",
   "metadata": {},
   "source": [
    "### 4.6. Assess model <a class=\"anchor\" id=\"4.6-bullet\"></a>\n",
    "Our data mining goal is to predict categorical customer ratings based on labeled reviews. Therefore, the model selected is expected to predict the rating class from unseen review data with high accuracy.\n",
    "\n",
    "LinearSVC determines the best decision boundary between vectors of two classes. It can be applied to any kind of vector which encode any kind of data. With tf-idf vectorized text data, LinearSVC will draw the best hyperplane to divide the space into two subspaces. In terms of data mining objectives, the LinearSVC model meets the requirements.\n",
    "\n",
    "The model is applied (fit) to the training set based on reviews and labeled rating class. In other words, the model is trained using the training set, and then the model will be used to predict the rating class for the test set.\n"
   ]
  },
  {
   "cell_type": "markdown",
   "id": "56aeeb80",
   "metadata": {},
   "source": [
    "## 5. Evaluation  <a class=\"anchor\" id=\"5-bullet\"></a>\n",
    "### 5.1. Evaluate the results  <a class=\"anchor\" id=\"5.1-bullet\"></a>"
   ]
  },
  {
   "cell_type": "code",
   "execution_count": 25,
   "id": "06f11385",
   "metadata": {},
   "outputs": [
    {
     "name": "stdout",
     "output_type": "stream",
     "text": [
      "-----------------------------------------------\n",
      "     Logistic Regression Model with TF-IDF     \n",
      "-----------------------------------------------\n",
      "\n",
      "------ Confusion Matrix ------\n",
      "\n",
      "[[37528  5027]\n",
      " [ 8335 61826]]\n"
     ]
    },
    {
     "data": {
      "image/png": "[encoded data removed]",
      "text/plain": [
       "<Figure size 432x288 with 2 Axes>"
      ]
     },
     "metadata": {
      "needs_background": "light"
     },
     "output_type": "display_data"
    },
    {
     "name": "stdout",
     "output_type": "stream",
     "text": [
      "\n",
      "\n",
      "---- Classification report for Training Set -----\n",
      "\n",
      "              precision    recall  f1-score   support\n",
      "\n",
      "           0       0.85      0.91      0.88    127663\n",
      "           1       0.94      0.90      0.92    210484\n",
      "\n",
      "    accuracy                           0.90    338147\n",
      "   macro avg       0.89      0.90      0.90    338147\n",
      "weighted avg       0.91      0.90      0.90    338147\n",
      "\n",
      "\n",
      "\n",
      "---- Classification report for Test Set -----\n",
      "\n",
      "              precision    recall  f1-score   support\n",
      "\n",
      "           0       0.82      0.88      0.85     42555\n",
      "           1       0.92      0.88      0.90     70161\n",
      "\n",
      "    accuracy                           0.88    112716\n",
      "   macro avg       0.87      0.88      0.88    112716\n",
      "weighted avg       0.88      0.88      0.88    112716\n",
      "\n"
     ]
    }
   ],
   "source": [
    "print(\"-----------------------------------------------\")\n",
    "print(\"     Logistic Regression Model with TF-IDF     \")\n",
    "print(\"-----------------------------------------------\\n\")\n",
    "modeling_evaluation(logreg, X_train_tf_idf, X_test_tf_idf)"
   ]
  },
  {
   "cell_type": "code",
   "execution_count": 26,
   "id": "690bc0de",
   "metadata": {},
   "outputs": [
    {
     "name": "stdout",
     "output_type": "stream",
     "text": [
      "--------------------------------------------------------\n",
      " Linear Support Vector Classification Model with TF-IDF \n",
      "--------------------------------------------------------\n",
      "\n",
      "------ Confusion Matrix ------\n",
      "\n",
      "[[37301  5254]\n",
      " [ 7607 62554]]\n"
     ]
    },
    {
     "data": {
      "image/png": "[encoded data removed]",
      "text/plain": [
       "<Figure size 432x288 with 2 Axes>"
      ]
     },
     "metadata": {
      "needs_background": "light"
     },
     "output_type": "display_data"
    },
    {
     "name": "stdout",
     "output_type": "stream",
     "text": [
      "\n",
      "\n",
      "---- Classification report for Training Set -----\n",
      "\n",
      "              precision    recall  f1-score   support\n",
      "\n",
      "           0       0.92      0.96      0.94    127663\n",
      "           1       0.98      0.95      0.96    210484\n",
      "\n",
      "    accuracy                           0.96    338147\n",
      "   macro avg       0.95      0.96      0.95    338147\n",
      "weighted avg       0.96      0.96      0.96    338147\n",
      "\n",
      "\n",
      "\n",
      "---- Classification report for Test Set -----\n",
      "\n",
      "              precision    recall  f1-score   support\n",
      "\n",
      "           0       0.83      0.88      0.85     42555\n",
      "           1       0.92      0.89      0.91     70161\n",
      "\n",
      "    accuracy                           0.89    112716\n",
      "   macro avg       0.88      0.88      0.88    112716\n",
      "weighted avg       0.89      0.89      0.89    112716\n",
      "\n"
     ]
    }
   ],
   "source": [
    "print(\"--------------------------------------------------------\")\n",
    "print(\" Linear Support Vector Classification Model with TF-IDF \")\n",
    "print(\"--------------------------------------------------------\\n\")\n",
    "modeling_evaluation(svc, X_train_tf_idf, X_test_tf_idf)"
   ]
  },
  {
   "cell_type": "markdown",
   "id": "9b70caba",
   "metadata": {},
   "source": [
    "#### Result Interpretation\n",
    "As we can see from the classification report for both the training set and test set, precision, recall, and f1-score are pretty good in both models. However, LinearSVC gives slightly better results than Logistic Regression.\n",
    "\n",
    "Now, we focus on the minority class (class 0 or 'bad' rating class) and pick this class as a positive class in the confusion matrix result of the LinearSVC model. \n",
    "\n",
    "- If we want to predict a review is bad, only if we are very confident, we will use 83% of precision.\n",
    "\n",
    "- If we want to avoid missing too many cases of bad, we will use 88% of recall.\n",
    "\n",
    "There is a trade-off between optimizing precision and recall, and it depends on our purpose, as mentioned above. For instance, if our company doesn't want to ignore any bad reviews from customers to improve service quality, we will try to optimize the recall metric.\n",
    "\n",
    "A similar interpretation could be made if we pick good rating class as a positive class in the confusion matrix.\n",
    "\n",
    "In another aspect, If we want to use a balanced metric for both precision and recall to compare the performance between two models, we can use F1-score. In this case, Logistic Regression and LinearSVC has the same F1-score for class 0 (Bad) = 85%.\n"
   ]
  },
  {
   "cell_type": "markdown",
   "id": "eea87cd8",
   "metadata": {},
   "source": [
    "### 5.2. Review Process  <a class=\"anchor\" id=\"5.2-bullet\"></a>\n",
    "As a result of reviewing the whole process of this project, we developed a good interrelation between steps. However, there are several things we could improve: \n",
    "- We could do some more analysis in the Data Understanding phase to get more insights\n",
    "- In the Data Preparation stage, the normalization and lemmatization phase take a long time to complete. In addition to that, we could look in more detail to remove more unmeaningful words\n",
    "- In the Modeling phase, although we got the data mining goal, it seems to be like we haven't explored all the valuable insights from the reviews. This should be done in business understanding again to define new business objectives.\n"
   ]
  },
  {
   "cell_type": "markdown",
   "id": "24575d56",
   "metadata": {},
   "source": [
    "### 5.3. Determine next steps  <a class=\"anchor\" id=\"5.3-bullet\"></a>\n",
    "Due to time limitations, we aren't able to do all that we could in this project. The next steps will be determined based on our business objectives and data mining objectives in the future. In particular, this project could do the followings:\n",
    "- Tune the hyperparameter, like changing the C value or algorithms in the model to improve the evaluation metrics.\n",
    "- Use cross-validation and Gridsearch to improve the performance\n",
    "- Although our dataset is slightly imbalanced, we also can try SMOTE to balance the dataset to test the effect on the model\n",
    "- Examine other models and use ROC, AUC to evaluate the performance between them\n",
    "- Build a Neural networks model for text classification to see how well NNs perform on text data.\n",
    "- ApplyTopic Modeling will be useful for further categorization of new reviews\n",
    "- Build the pipeline to implement the whole process\n"
   ]
  },
  {
   "cell_type": "markdown",
   "id": "3ce68cf3",
   "metadata": {},
   "source": [
    "#### Now, we completed the phase 04. Modeling and Evaluation.  It is also the last phase in our project.\n",
    "Go back to the main notebook [01. MainNotebook](CA_TanThienNguyen_C00278719_01_MainNotebook.ipynb)"
   ]
  }
 ],
 "metadata": {
  "kernelspec": {
   "display_name": "Python 3 (ipykernel)",
   "language": "python",
   "name": "python3"
  },
  "language_info": {
   "codemirror_mode": {
    "name": "ipython",
    "version": 3
   },
   "file_extension": ".py",
   "mimetype": "text/x-python",
   "name": "python",
   "nbconvert_exporter": "python",
   "pygments_lexer": "ipython3",
   "version": "3.9.7"
  }
 },
 "nbformat": 4,
 "nbformat_minor": 5
}
