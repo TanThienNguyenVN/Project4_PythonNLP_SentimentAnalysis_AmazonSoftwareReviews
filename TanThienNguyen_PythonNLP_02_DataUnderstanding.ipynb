{
 "cells": [
  {
   "cell_type": "markdown",
   "id": "08cbc539",
   "metadata": {},
   "source": [
    "### 2. Data Understanding\n",
    "2.1. [Data Collection](#2.1-bullet)\n",
    "\n",
    "2.2. [Data Description](#2.2-bullet)\n",
    "  \n",
    "2.3. [Data Wrangling](#2.3-bullet)\n",
    "\n",
    "2.4. [Exploratory Data Analysis](#2.4-bullet)\n",
    "\n",
    "2.5. [Verify Data Quality](#2.5-bullet)\n",
    "\n",
    "---------------------------------------------------------"
   ]
  },
  {
   "cell_type": "markdown",
   "id": "e4931a4e",
   "metadata": {},
   "source": [
    "#### Import necessary libraries"
   ]
  },
  {
   "cell_type": "code",
   "execution_count": 1,
   "id": "299ead7e",
   "metadata": {},
   "outputs": [],
   "source": [
    "import pandas as pd\n",
    "import numpy as np\n",
    "import matplotlib.pyplot as plt\n",
    "from pandas.plotting import scatter_matrix"
   ]
  },
  {
   "cell_type": "markdown",
   "id": "37a53d71",
   "metadata": {},
   "source": [
    "#### Handling missing values functions"
   ]
  },
  {
   "cell_type": "code",
   "execution_count": 2,
   "id": "0d0deead",
   "metadata": {},
   "outputs": [],
   "source": [
    "# Convert string to numeric values\n",
    "def str2num(value):\n",
    "    try:\n",
    "        return int(value)\n",
    "    except ValueError:\n",
    "        return value\n",
    "\n",
    "# Convert nan values to int\n",
    "def nan2int(value):\n",
    "    if pd.isnull(value):\n",
    "        return 0\n",
    "    return value"
   ]
  },
  {
   "cell_type": "markdown",
   "id": "6faede16",
   "metadata": {},
   "source": [
    "## 2. Data Understanding  <a class=\"anchor\" id=\"2-bullet\"></a>\n",
    "### 2.1. Data Collection  <a class=\"anchor\" id=\"2.1-bullet\"></a>\n",
    "The datasets includes Amazon Software product reviews and meta data Software product collected from https://jmcauley.ucsd.edu/data/amazon/ or http://snap.stanford.edu/data/web-Amazon.html. Accessed date: 01 February 2022.\n",
    "\n",
    "The datasets then were downloaded and stored in ***/Dataset*** local folder."
   ]
  },
  {
   "cell_type": "code",
   "execution_count": 3,
   "id": "b8e42b46",
   "metadata": {},
   "outputs": [],
   "source": [
    "# Load data\n",
    "df_raw = pd.read_json('Dataset/Software.json', lines=True)\n",
    "df_meta_raw = pd.read_json('Dataset/meta_Software.json', lines=True)"
   ]
  },
  {
   "cell_type": "markdown",
   "id": "721c559c",
   "metadata": {},
   "source": [
    "### 2.2. Data Description  <a class=\"anchor\" id=\"2.2-bullet\"></a>\n",
    "The datasets includes two files:\n",
    "- **Software.json** - Amazon Software product reviews includes 459,436 reviews in JSON format (300 MB)\n",
    "- **meta_Software.json** - meta data includes meta data of 26,815 products in JSON format (70 MB)"
   ]
  },
  {
   "cell_type": "markdown",
   "id": "213ee827",
   "metadata": {},
   "source": [
    "##### Software.json sample data\n",
    "\n",
    "{\"overall\": 4.0, \"verified\": true, \"reviewTime\": \"03 11, 2014\", \"reviewerID\": \"A240ORQ2LF9LUI\", \"asin\": \"0077613252\", \"style\": {\"Format:\": \" Loose Leaf\"}, \"reviewerName\": \"Michelle W\", \"reviewText\": \"The materials arrived early and were in excellent condition.  However for the money spent they really should've come with a binder and not just loose leaf.\", \"summary\": \"Material Great\", \"unixReviewTime\": 1394496000}\n",
    "{\"overall\": 4.0, \"verified\": true, \"reviewTime\": \"02 23, 2014\", \"reviewerID\": \"A1YCCU0YRLS0FE\", \"asin\": \"0077613252\", \"style\": {\"Format:\": \" Loose Leaf\"}, \"reviewerName\": \"Rosalind White Ames\", \"reviewText\": \"I am really enjoying this book with the worksheets that make you review your goals, what to do when you do not make it, it reminds me  of my human sexuality classwork.\", \"summary\": \"Health\", \"unixReviewTime\": 1393113600}\n"
   ]
  },
  {
   "cell_type": "markdown",
   "id": "2c449135",
   "metadata": {},
   "source": [
    "##### meta_Software.json sample data\n",
    "{\"category\": [], \"tech1\": \"\", \"description\": [\"\", \"<b>Latin rhythms that will get your kids singing in Spanish</b>\", \"<i>Sing, Watch, and Learn Spanish</i> helps your kids ages four through eight take a giant step in learning Spanish by combining two time-honored methods kids have always used to develop their language skills: Imitating other kids and singing along with simple melodies. This charming DVD contains 16 music videos featuring kids engaged in fun activities, from visiting animals at the zoo to comparing clothing sizes in grandmas closet.\", \"Each video features an original song of authentic Latin rhythms that gets kids singing along with the children on screen. As they watch, listen, and sing along, kids absorb 300 Spanish words, each of which is shouted out in a song and displayed as a subtitle on screen.\", \"\", \"\", \"\"], \"fit\": \"\", \"title\": \"Sing, Watch, &amp; Learn Spanish (DVD + Guide): 16 Fun Music Videos to Introduce Your Child to Spanish\", \"also_buy\": [], \"tech2\": \"\", \"brand\": \"McGraw Hill\", \"feature\": [], \"rank\": \"15,792 in Software (\", \"also_view\": [], \"main_cat\": \"Software\", \"similar_item\": \"\", \"date\": \"</div>\", \"price\": \"\", \"asin\": \"0071480935\", \"imageURL\": [\"https://images-na.ssl-images-amazon.com/images/I/51BtLn2-L-L._SX38_SY50_CR,0,0,38,50_.jpg\"], \"imageURLHighRes\": [\"https://images-na.ssl-images-amazon.com/images/I/51BtLn2-L-L.jpg\"]}"
   ]
  },
  {
   "cell_type": "markdown",
   "id": "78d1fe4b",
   "metadata": {},
   "source": [
    "#### 2.2.1. Software Product Reviews data"
   ]
  },
  {
   "cell_type": "code",
   "execution_count": 4,
   "id": "d33b0c0e",
   "metadata": {},
   "outputs": [
    {
     "data": {
      "text/html": [
       "<div>\n",
       "<style scoped>\n",
       "    .dataframe tbody tr th:only-of-type {\n",
       "        vertical-align: middle;\n",
       "    }\n",
       "\n",
       "    .dataframe tbody tr th {\n",
       "        vertical-align: top;\n",
       "    }\n",
       "\n",
       "    .dataframe thead th {\n",
       "        text-align: right;\n",
       "    }\n",
       "</style>\n",
       "<table border=\"1\" class=\"dataframe\">\n",
       "  <thead>\n",
       "    <tr style=\"text-align: right;\">\n",
       "      <th></th>\n",
       "      <th>overall</th>\n",
       "      <th>verified</th>\n",
       "      <th>reviewTime</th>\n",
       "      <th>reviewerID</th>\n",
       "      <th>asin</th>\n",
       "      <th>style</th>\n",
       "      <th>reviewerName</th>\n",
       "      <th>reviewText</th>\n",
       "      <th>summary</th>\n",
       "      <th>unixReviewTime</th>\n",
       "      <th>vote</th>\n",
       "      <th>image</th>\n",
       "    </tr>\n",
       "  </thead>\n",
       "  <tbody>\n",
       "    <tr>\n",
       "      <th>0</th>\n",
       "      <td>4</td>\n",
       "      <td>True</td>\n",
       "      <td>03 11, 2014</td>\n",
       "      <td>A240ORQ2LF9LUI</td>\n",
       "      <td>0077613252</td>\n",
       "      <td>{'Format:': ' Loose Leaf'}</td>\n",
       "      <td>Michelle W</td>\n",
       "      <td>The materials arrived early and were in excell...</td>\n",
       "      <td>Material Great</td>\n",
       "      <td>1394496000</td>\n",
       "      <td>NaN</td>\n",
       "      <td>NaN</td>\n",
       "    </tr>\n",
       "    <tr>\n",
       "      <th>1</th>\n",
       "      <td>4</td>\n",
       "      <td>True</td>\n",
       "      <td>02 23, 2014</td>\n",
       "      <td>A1YCCU0YRLS0FE</td>\n",
       "      <td>0077613252</td>\n",
       "      <td>{'Format:': ' Loose Leaf'}</td>\n",
       "      <td>Rosalind White Ames</td>\n",
       "      <td>I am really enjoying this book with the worksh...</td>\n",
       "      <td>Health</td>\n",
       "      <td>1393113600</td>\n",
       "      <td>NaN</td>\n",
       "      <td>NaN</td>\n",
       "    </tr>\n",
       "    <tr>\n",
       "      <th>2</th>\n",
       "      <td>1</td>\n",
       "      <td>True</td>\n",
       "      <td>02 17, 2014</td>\n",
       "      <td>A1BJHRQDYVAY2J</td>\n",
       "      <td>0077613252</td>\n",
       "      <td>{'Format:': ' Loose Leaf'}</td>\n",
       "      <td>Allan R. Baker</td>\n",
       "      <td>IF YOU ARE TAKING THIS CLASS DON\"T WASTE YOUR ...</td>\n",
       "      <td>ARE YOU KIDING ME?</td>\n",
       "      <td>1392595200</td>\n",
       "      <td>7</td>\n",
       "      <td>NaN</td>\n",
       "    </tr>\n",
       "  </tbody>\n",
       "</table>\n",
       "</div>"
      ],
      "text/plain": [
       "   overall  verified   reviewTime      reviewerID        asin  \\\n",
       "0        4      True  03 11, 2014  A240ORQ2LF9LUI  0077613252   \n",
       "1        4      True  02 23, 2014  A1YCCU0YRLS0FE  0077613252   \n",
       "2        1      True  02 17, 2014  A1BJHRQDYVAY2J  0077613252   \n",
       "\n",
       "                        style         reviewerName  \\\n",
       "0  {'Format:': ' Loose Leaf'}           Michelle W   \n",
       "1  {'Format:': ' Loose Leaf'}  Rosalind White Ames   \n",
       "2  {'Format:': ' Loose Leaf'}       Allan R. Baker   \n",
       "\n",
       "                                          reviewText             summary  \\\n",
       "0  The materials arrived early and were in excell...      Material Great   \n",
       "1  I am really enjoying this book with the worksh...              Health   \n",
       "2  IF YOU ARE TAKING THIS CLASS DON\"T WASTE YOUR ...  ARE YOU KIDING ME?   \n",
       "\n",
       "   unixReviewTime vote image  \n",
       "0      1394496000  NaN   NaN  \n",
       "1      1393113600  NaN   NaN  \n",
       "2      1392595200    7   NaN  "
      ]
     },
     "execution_count": 4,
     "metadata": {},
     "output_type": "execute_result"
    }
   ],
   "source": [
    "# Product Reviews sample\n",
    "df_raw.head(3)"
   ]
  },
  {
   "cell_type": "code",
   "execution_count": 5,
   "id": "dadeac2d",
   "metadata": {},
   "outputs": [
    {
     "name": "stdout",
     "output_type": "stream",
     "text": [
      "<class 'pandas.core.frame.DataFrame'>\n",
      "RangeIndex: 459436 entries, 0 to 459435\n",
      "Data columns (total 12 columns):\n",
      " #   Column          Non-Null Count   Dtype \n",
      "---  ------          --------------   ----- \n",
      " 0   overall         459436 non-null  int64 \n",
      " 1   verified        459436 non-null  bool  \n",
      " 2   reviewTime      459436 non-null  object\n",
      " 3   reviewerID      459436 non-null  object\n",
      " 4   asin            459436 non-null  object\n",
      " 5   style           234401 non-null  object\n",
      " 6   reviewerName    459412 non-null  object\n",
      " 7   reviewText      459370 non-null  object\n",
      " 8   summary         459380 non-null  object\n",
      " 9   unixReviewTime  459436 non-null  int64 \n",
      " 10  vote            127853 non-null  object\n",
      " 11  image           1508 non-null    object\n",
      "dtypes: bool(1), int64(2), object(9)\n",
      "memory usage: 39.0+ MB\n"
     ]
    }
   ],
   "source": [
    "# Product review data summary\n",
    "df_raw.info()"
   ]
  },
  {
   "cell_type": "markdown",
   "id": "12f3990d",
   "metadata": {},
   "source": [
    "As we can see in the summary result, there are several columns having null values need to be resolved, especially reviewText, vote."
   ]
  },
  {
   "cell_type": "markdown",
   "id": "30590c87",
   "metadata": {},
   "source": [
    "##### Software Product Reviews Description:\n",
    "- **overall**: rating of the product (1,2,3,4,5)\n",
    "- **verified**: verification status (True of False)\n",
    "- **reviewTime**: time of the review (mm dd, yyyy), e.g. 03 11, 2014\n",
    "- **reviewerID**: ID of the reviewer, e.g. A240ORQ2LF9LUI\n",
    "- **asin**: Product ID, e.g. 0077613252\n",
    "- **style**: a disctionary of the product metadata, e.g., \"Format\" is \"Loose Leaf\"\n",
    "- **reviewerName**: name of the reviewer\n",
    "- **reviewText**: text of the review\n",
    "- **summary**: summary of the review\n",
    "- **unixReviewTime**: time of the review (in unix time format)\n",
    "- **vote**: votes of the review\n",
    "- **image**: images that users post after they have received the product"
   ]
  },
  {
   "cell_type": "markdown",
   "id": "81e1a11c",
   "metadata": {},
   "source": [
    "#### 2.2.2. Product meta data"
   ]
  },
  {
   "cell_type": "code",
   "execution_count": 6,
   "id": "8ffa955f",
   "metadata": {},
   "outputs": [
    {
     "data": {
      "text/html": [
       "<div>\n",
       "<style scoped>\n",
       "    .dataframe tbody tr th:only-of-type {\n",
       "        vertical-align: middle;\n",
       "    }\n",
       "\n",
       "    .dataframe tbody tr th {\n",
       "        vertical-align: top;\n",
       "    }\n",
       "\n",
       "    .dataframe thead th {\n",
       "        text-align: right;\n",
       "    }\n",
       "</style>\n",
       "<table border=\"1\" class=\"dataframe\">\n",
       "  <thead>\n",
       "    <tr style=\"text-align: right;\">\n",
       "      <th></th>\n",
       "      <th>category</th>\n",
       "      <th>tech1</th>\n",
       "      <th>description</th>\n",
       "      <th>fit</th>\n",
       "      <th>title</th>\n",
       "      <th>also_buy</th>\n",
       "      <th>tech2</th>\n",
       "      <th>brand</th>\n",
       "      <th>feature</th>\n",
       "      <th>rank</th>\n",
       "      <th>also_view</th>\n",
       "      <th>main_cat</th>\n",
       "      <th>similar_item</th>\n",
       "      <th>date</th>\n",
       "      <th>price</th>\n",
       "      <th>asin</th>\n",
       "      <th>imageURL</th>\n",
       "      <th>imageURLHighRes</th>\n",
       "      <th>details</th>\n",
       "    </tr>\n",
       "  </thead>\n",
       "  <tbody>\n",
       "    <tr>\n",
       "      <th>0</th>\n",
       "      <td>[]</td>\n",
       "      <td></td>\n",
       "      <td>[]</td>\n",
       "      <td></td>\n",
       "      <td>HOLT PHYSICS LESSON PRESENTATION CD-ROM QUICK ...</td>\n",
       "      <td>[]</td>\n",
       "      <td></td>\n",
       "      <td>HOLT. RINEHART AND WINSTON</td>\n",
       "      <td>[]</td>\n",
       "      <td>25,550 in Software (</td>\n",
       "      <td>[]</td>\n",
       "      <td>Software</td>\n",
       "      <td></td>\n",
       "      <td>&lt;/div&gt;</td>\n",
       "      <td>.a-box-inner{background-color:#fff}#alohaBuyBo...</td>\n",
       "      <td>0030672120</td>\n",
       "      <td>[]</td>\n",
       "      <td>[]</td>\n",
       "      <td>NaN</td>\n",
       "    </tr>\n",
       "    <tr>\n",
       "      <th>1</th>\n",
       "      <td>[]</td>\n",
       "      <td></td>\n",
       "      <td>[, &lt;b&gt;Latin rhythms that will get your kids si...</td>\n",
       "      <td></td>\n",
       "      <td>Sing, Watch, &amp;amp; Learn Spanish (DVD + Guide)...</td>\n",
       "      <td>[]</td>\n",
       "      <td></td>\n",
       "      <td>McGraw Hill</td>\n",
       "      <td>[]</td>\n",
       "      <td>15,792 in Software (</td>\n",
       "      <td>[]</td>\n",
       "      <td>Software</td>\n",
       "      <td></td>\n",
       "      <td>&lt;/div&gt;</td>\n",
       "      <td></td>\n",
       "      <td>0071480935</td>\n",
       "      <td>[https://images-na.ssl-images-amazon.com/image...</td>\n",
       "      <td>[https://images-na.ssl-images-amazon.com/image...</td>\n",
       "      <td>NaN</td>\n",
       "    </tr>\n",
       "    <tr>\n",
       "      <th>2</th>\n",
       "      <td>[]</td>\n",
       "      <td></td>\n",
       "      <td>[&lt;b&gt;Connect is the only integrated learning sy...</td>\n",
       "      <td></td>\n",
       "      <td>Connect with LearnSmart Access Card for Microb...</td>\n",
       "      <td>[]</td>\n",
       "      <td></td>\n",
       "      <td>McGraw-Hill Science/Engineering/Math</td>\n",
       "      <td>[]</td>\n",
       "      <td>16,900 in Software (</td>\n",
       "      <td>[]</td>\n",
       "      <td>Software</td>\n",
       "      <td></td>\n",
       "      <td>&lt;/div&gt;</td>\n",
       "      <td></td>\n",
       "      <td>007329506X</td>\n",
       "      <td>[https://images-na.ssl-images-amazon.com/image...</td>\n",
       "      <td>[https://images-na.ssl-images-amazon.com/image...</td>\n",
       "      <td>NaN</td>\n",
       "    </tr>\n",
       "  </tbody>\n",
       "</table>\n",
       "</div>"
      ],
      "text/plain": [
       "  category tech1                                        description fit  \\\n",
       "0       []                                                       []       \n",
       "1       []        [, <b>Latin rhythms that will get your kids si...       \n",
       "2       []        [<b>Connect is the only integrated learning sy...       \n",
       "\n",
       "                                               title also_buy tech2  \\\n",
       "0  HOLT PHYSICS LESSON PRESENTATION CD-ROM QUICK ...       []         \n",
       "1  Sing, Watch, &amp; Learn Spanish (DVD + Guide)...       []         \n",
       "2  Connect with LearnSmart Access Card for Microb...       []         \n",
       "\n",
       "                                  brand feature                  rank  \\\n",
       "0            HOLT. RINEHART AND WINSTON      []  25,550 in Software (   \n",
       "1                           McGraw Hill      []  15,792 in Software (   \n",
       "2  McGraw-Hill Science/Engineering/Math      []  16,900 in Software (   \n",
       "\n",
       "  also_view  main_cat similar_item    date  \\\n",
       "0        []  Software               </div>   \n",
       "1        []  Software               </div>   \n",
       "2        []  Software               </div>   \n",
       "\n",
       "                                               price        asin  \\\n",
       "0  .a-box-inner{background-color:#fff}#alohaBuyBo...  0030672120   \n",
       "1                                                     0071480935   \n",
       "2                                                     007329506X   \n",
       "\n",
       "                                            imageURL  \\\n",
       "0                                                 []   \n",
       "1  [https://images-na.ssl-images-amazon.com/image...   \n",
       "2  [https://images-na.ssl-images-amazon.com/image...   \n",
       "\n",
       "                                     imageURLHighRes details  \n",
       "0                                                 []     NaN  \n",
       "1  [https://images-na.ssl-images-amazon.com/image...     NaN  \n",
       "2  [https://images-na.ssl-images-amazon.com/image...     NaN  "
      ]
     },
     "execution_count": 6,
     "metadata": {},
     "output_type": "execute_result"
    }
   ],
   "source": [
    "# Product metadata sample\n",
    "df_meta_raw.head(3)"
   ]
  },
  {
   "cell_type": "code",
   "execution_count": 7,
   "id": "6103f089",
   "metadata": {},
   "outputs": [
    {
     "name": "stdout",
     "output_type": "stream",
     "text": [
      "<class 'pandas.core.frame.DataFrame'>\n",
      "RangeIndex: 26790 entries, 0 to 26789\n",
      "Data columns (total 19 columns):\n",
      " #   Column           Non-Null Count  Dtype \n",
      "---  ------           --------------  ----- \n",
      " 0   category         26790 non-null  object\n",
      " 1   tech1            26790 non-null  object\n",
      " 2   description      26790 non-null  object\n",
      " 3   fit              26790 non-null  object\n",
      " 4   title            26790 non-null  object\n",
      " 5   also_buy         26790 non-null  object\n",
      " 6   tech2            26790 non-null  object\n",
      " 7   brand            26790 non-null  object\n",
      " 8   feature          26790 non-null  object\n",
      " 9   rank             26790 non-null  object\n",
      " 10  also_view        26790 non-null  object\n",
      " 11  main_cat         26790 non-null  object\n",
      " 12  similar_item     26790 non-null  object\n",
      " 13  date             26790 non-null  object\n",
      " 14  price            26790 non-null  object\n",
      " 15  asin             26790 non-null  object\n",
      " 16  imageURL         26790 non-null  object\n",
      " 17  imageURLHighRes  26790 non-null  object\n",
      " 18  details          25938 non-null  object\n",
      "dtypes: object(19)\n",
      "memory usage: 3.9+ MB\n"
     ]
    }
   ],
   "source": [
    "# Product metadata summary\n",
    "df_meta_raw.info()"
   ]
  },
  {
   "cell_type": "markdown",
   "id": "7e76909c",
   "metadata": {},
   "source": [
    "##### Product metadata Description:\n",
    "- **category**: category of the product\n",
    "- **tech1**: the first technical detail table of the product\n",
    "- **description**: description of the product\n",
    "- **fit**: Unknown\n",
    "- **title**: product title\n",
    "- **also_buy**: the list of products were bought together\n",
    "- **tech2**: the second technical detail table of the product\n",
    "- **brand**: product brand name\n",
    "- **feature**: bullet-point format features of the product\n",
    "- **rank**: sales rank information\n",
    "- **also_view**: the products were view by the same customer\n",
    "- **main_cat**: the main category - Software\n",
    "- **similar_item**: text of the review\n",
    "- **date**: Unknown\n",
    "- **price**: price of the product\n",
    "- **asin**: Product ID, e.g. 0030672120\n",
    "- **image_URL**: url of the product image\n",
    "- **imageURLHighRes**: url of the high resolution product image\n",
    "- **details**: details"
   ]
  },
  {
   "cell_type": "markdown",
   "id": "f09d8a16",
   "metadata": {},
   "source": [
    "### 2.3. Data Wrangling  <a class=\"anchor\" id=\"2.3-bullet\"></a>\n",
    "##### Before doing Exploratory Data Analysis (EDA), This Data Wrangling part will do the followings:\n",
    "1. Drop unnecessary columns and transform some columns into two raw datasets. In more detail:\n",
    "- **overall rating, reviewTime, reviewerID, asin, reviewText, summary, vote** will be retained in Product review dataset. \n",
    "- **reviewText** and **summary** columns will be concatenated to the only one new **reviewFull** column\n",
    "- **category, brand, title, asin** will be kept in Product metadata dataset\n",
    "\n",
    "##### Product Review\n",
    "2. Find and remove duplicated rows based on asin, reviewFull, reviewTime, and reviewerID in Product Review data set\n",
    "3. **vote** with NaN value will be transformed to numerical value = 0\n",
    "4. **reviewTime** will be transformed to Date type\n",
    "\n",
    "##### Product metadata\n",
    "5. Find and remove duplicated rows based on asin in Product metadata\n",
    "6. Remove special characters\n",
    "7. Update product category\n",
    "\n",
    "##### Merge\n",
    "8. Merge two datasets into a new one using asin (product key)\n",
    "- Handle nan values\n",
    "- Add a new feature **reviewLength**"
   ]
  },
  {
   "cell_type": "markdown",
   "id": "c467684c",
   "metadata": {},
   "source": [
    "#### 1. Drop unnecessary columns and transform some columns"
   ]
  },
  {
   "cell_type": "code",
   "execution_count": 8,
   "id": "19817e71",
   "metadata": {},
   "outputs": [],
   "source": [
    "# select only necessary columns in product review and rename some columns\n",
    "df_product = df_raw[['overall','reviewerID','reviewTime','asin','reviewText','summary','vote']].copy()\n",
    "df_product = df_product.rename({'overall':'rating'}, axis='columns').copy()\n",
    "\n",
    "# concatenate reviewText and summary column \n",
    "df_product['reviewFull'] = df_product[['reviewText','summary']].apply(lambda x: ''.join(str(y) for y in x if str(y) !='nan'), axis = 1)\n",
    "df_product = df_product.drop(columns=['reviewText','summary'], axis=1).copy()\n",
    "\n",
    "# select only necessary columns in product metadata\n",
    "df_meta = df_meta_raw[['category','brand','title','asin']].copy()\n",
    "df_meta = df_meta.rename({'title':'product'}, axis='columns').copy()\n"
   ]
  },
  {
   "cell_type": "markdown",
   "id": "ff4d28b5",
   "metadata": {},
   "source": [
    "#### 2. Find and remove duplicated rows based on asin, reviewFull, reviewTime, and reviewerID in Product Review data set"
   ]
  },
  {
   "cell_type": "code",
   "execution_count": 9,
   "id": "abaf8e0e",
   "metadata": {},
   "outputs": [
    {
     "data": {
      "text/html": [
       "<div>\n",
       "<style scoped>\n",
       "    .dataframe tbody tr th:only-of-type {\n",
       "        vertical-align: middle;\n",
       "    }\n",
       "\n",
       "    .dataframe tbody tr th {\n",
       "        vertical-align: top;\n",
       "    }\n",
       "\n",
       "    .dataframe thead th {\n",
       "        text-align: right;\n",
       "    }\n",
       "</style>\n",
       "<table border=\"1\" class=\"dataframe\">\n",
       "  <thead>\n",
       "    <tr style=\"text-align: right;\">\n",
       "      <th></th>\n",
       "      <th>rating</th>\n",
       "      <th>reviewerID</th>\n",
       "      <th>reviewTime</th>\n",
       "      <th>asin</th>\n",
       "      <th>vote</th>\n",
       "      <th>reviewFull</th>\n",
       "    </tr>\n",
       "  </thead>\n",
       "  <tbody>\n",
       "    <tr>\n",
       "      <th>57559</th>\n",
       "      <td>3</td>\n",
       "      <td>A0823528HTX8UO6IPJ4V</td>\n",
       "      <td>05 15, 2016</td>\n",
       "      <td>B0014ZQMXO</td>\n",
       "      <td>NaN</td>\n",
       "      <td>it is 2016 and the sofware has to be better th...</td>\n",
       "    </tr>\n",
       "    <tr>\n",
       "      <th>66065</th>\n",
       "      <td>3</td>\n",
       "      <td>A0823528HTX8UO6IPJ4V</td>\n",
       "      <td>05 15, 2016</td>\n",
       "      <td>B0014ZQMXO</td>\n",
       "      <td>NaN</td>\n",
       "      <td>it is 2016 and the sofware has to be better th...</td>\n",
       "    </tr>\n",
       "    <tr>\n",
       "      <th>301024</th>\n",
       "      <td>5</td>\n",
       "      <td>A1000SU5PFV1EQ</td>\n",
       "      <td>10 7, 2016</td>\n",
       "      <td>B00S8TYVCI</td>\n",
       "      <td>NaN</td>\n",
       "      <td>THE BEST PRODUCT AND SERVICE! REPAIR, RESTORE ...</td>\n",
       "    </tr>\n",
       "    <tr>\n",
       "      <th>301025</th>\n",
       "      <td>5</td>\n",
       "      <td>A1000SU5PFV1EQ</td>\n",
       "      <td>10 7, 2016</td>\n",
       "      <td>B00S8TYVCI</td>\n",
       "      <td>NaN</td>\n",
       "      <td>THE BEST PRODUCT AND SERVICE! REPAIR, RESTORE ...</td>\n",
       "    </tr>\n",
       "    <tr>\n",
       "      <th>52866</th>\n",
       "      <td>4</td>\n",
       "      <td>A1004703RC79J9</td>\n",
       "      <td>07 16, 2009</td>\n",
       "      <td>B000WR2F2M</td>\n",
       "      <td>NaN</td>\n",
       "      <td>I've read some not-so-positive reviews about M...</td>\n",
       "    </tr>\n",
       "    <tr>\n",
       "      <th>...</th>\n",
       "      <td>...</td>\n",
       "      <td>...</td>\n",
       "      <td>...</td>\n",
       "      <td>...</td>\n",
       "      <td>...</td>\n",
       "      <td>...</td>\n",
       "    </tr>\n",
       "    <tr>\n",
       "      <th>59133</th>\n",
       "      <td>3</td>\n",
       "      <td>AZWSFFD4ZQ29X</td>\n",
       "      <td>07 10, 2011</td>\n",
       "      <td>B000VJTL1Y</td>\n",
       "      <td>NaN</td>\n",
       "      <td>Powerful product - if you either take classes ...</td>\n",
       "    </tr>\n",
       "    <tr>\n",
       "      <th>56619</th>\n",
       "      <td>4</td>\n",
       "      <td>AZXGPM8EKSHE9</td>\n",
       "      <td>04 5, 2010</td>\n",
       "      <td>B0014KJ6EQ</td>\n",
       "      <td>6</td>\n",
       "      <td>I too will review this product using the actua...</td>\n",
       "    </tr>\n",
       "    <tr>\n",
       "      <th>65125</th>\n",
       "      <td>4</td>\n",
       "      <td>AZXGPM8EKSHE9</td>\n",
       "      <td>04 5, 2010</td>\n",
       "      <td>B0014KJ6EQ</td>\n",
       "      <td>6</td>\n",
       "      <td>I too will review this product using the actua...</td>\n",
       "    </tr>\n",
       "    <tr>\n",
       "      <th>58778</th>\n",
       "      <td>5</td>\n",
       "      <td>AZYPEP2CT1LUC</td>\n",
       "      <td>03 8, 2009</td>\n",
       "      <td>B0017KEA6W</td>\n",
       "      <td>7</td>\n",
       "      <td>For less than a hundred $$$ and my eeemachine ...</td>\n",
       "    </tr>\n",
       "    <tr>\n",
       "      <th>67284</th>\n",
       "      <td>5</td>\n",
       "      <td>AZYPEP2CT1LUC</td>\n",
       "      <td>03 8, 2009</td>\n",
       "      <td>B0017KEA6W</td>\n",
       "      <td>7</td>\n",
       "      <td>For less than a hundred $$$ and my eeemachine ...</td>\n",
       "    </tr>\n",
       "  </tbody>\n",
       "</table>\n",
       "<p>17141 rows × 6 columns</p>\n",
       "</div>"
      ],
      "text/plain": [
       "        rating            reviewerID   reviewTime        asin vote  \\\n",
       "57559        3  A0823528HTX8UO6IPJ4V  05 15, 2016  B0014ZQMXO  NaN   \n",
       "66065        3  A0823528HTX8UO6IPJ4V  05 15, 2016  B0014ZQMXO  NaN   \n",
       "301024       5        A1000SU5PFV1EQ   10 7, 2016  B00S8TYVCI  NaN   \n",
       "301025       5        A1000SU5PFV1EQ   10 7, 2016  B00S8TYVCI  NaN   \n",
       "52866        4        A1004703RC79J9  07 16, 2009  B000WR2F2M  NaN   \n",
       "...        ...                   ...          ...         ...  ...   \n",
       "59133        3         AZWSFFD4ZQ29X  07 10, 2011  B000VJTL1Y  NaN   \n",
       "56619        4         AZXGPM8EKSHE9   04 5, 2010  B0014KJ6EQ    6   \n",
       "65125        4         AZXGPM8EKSHE9   04 5, 2010  B0014KJ6EQ    6   \n",
       "58778        5         AZYPEP2CT1LUC   03 8, 2009  B0017KEA6W    7   \n",
       "67284        5         AZYPEP2CT1LUC   03 8, 2009  B0017KEA6W    7   \n",
       "\n",
       "                                               reviewFull  \n",
       "57559   it is 2016 and the sofware has to be better th...  \n",
       "66065   it is 2016 and the sofware has to be better th...  \n",
       "301024  THE BEST PRODUCT AND SERVICE! REPAIR, RESTORE ...  \n",
       "301025  THE BEST PRODUCT AND SERVICE! REPAIR, RESTORE ...  \n",
       "52866   I've read some not-so-positive reviews about M...  \n",
       "...                                                   ...  \n",
       "59133   Powerful product - if you either take classes ...  \n",
       "56619   I too will review this product using the actua...  \n",
       "65125   I too will review this product using the actua...  \n",
       "58778   For less than a hundred $$$ and my eeemachine ...  \n",
       "67284   For less than a hundred $$$ and my eeemachine ...  \n",
       "\n",
       "[17141 rows x 6 columns]"
      ]
     },
     "execution_count": 9,
     "metadata": {},
     "output_type": "execute_result"
    }
   ],
   "source": [
    "# Find duplicated rows\n",
    "df_product[df_product.duplicated(['reviewerID','asin','reviewFull','reviewTime'], keep=False)].sort_values(by=['reviewerID','asin'])"
   ]
  },
  {
   "cell_type": "code",
   "execution_count": 10,
   "id": "43829df9",
   "metadata": {},
   "outputs": [],
   "source": [
    "# Remove duplicated rows based on asin, reviewFull, reviewTime, and reviewerID. Keep the first rows\n",
    "df_product = df_product.drop_duplicates(['reviewerID','asin','reviewFull','reviewTime'], keep='first')"
   ]
  },
  {
   "cell_type": "markdown",
   "id": "739da3b3",
   "metadata": {},
   "source": [
    "#### 3. Transform NaN helpful votes to numerical value = 0"
   ]
  },
  {
   "cell_type": "code",
   "execution_count": 11,
   "id": "24550e2d",
   "metadata": {},
   "outputs": [],
   "source": [
    "#-- 3. Transform NaN helpful votes to numerical value = 0\n",
    "df_product.vote = df_product.vote.str.replace(',','')\n",
    "df_product.vote = df_product.vote.apply(nan2int)\n",
    "df_product.vote = pd.to_numeric(df_product.vote, downcast=\"integer\")"
   ]
  },
  {
   "cell_type": "markdown",
   "id": "a7db0d93",
   "metadata": {},
   "source": [
    "#### 4. Transform reviewTime to datetime"
   ]
  },
  {
   "cell_type": "code",
   "execution_count": 12,
   "id": "891c28b8",
   "metadata": {},
   "outputs": [],
   "source": [
    "#-- 4. Transform reviewTime to datetime\n",
    "df_product['reviewTime'] = df_product.reviewTime.str.replace(',','')\n",
    "df_product['reviewTime'] = pd.to_datetime(df_product['reviewTime'], format = '%m %d %Y')"
   ]
  },
  {
   "cell_type": "markdown",
   "id": "293461cf",
   "metadata": {},
   "source": [
    "#### 5. Find and remove duplicated rows based on asin in Product metadata"
   ]
  },
  {
   "cell_type": "code",
   "execution_count": 13,
   "id": "a08f47eb",
   "metadata": {},
   "outputs": [
    {
     "data": {
      "text/html": [
       "<div>\n",
       "<style scoped>\n",
       "    .dataframe tbody tr th:only-of-type {\n",
       "        vertical-align: middle;\n",
       "    }\n",
       "\n",
       "    .dataframe tbody tr th {\n",
       "        vertical-align: top;\n",
       "    }\n",
       "\n",
       "    .dataframe thead th {\n",
       "        text-align: right;\n",
       "    }\n",
       "</style>\n",
       "<table border=\"1\" class=\"dataframe\">\n",
       "  <thead>\n",
       "    <tr style=\"text-align: right;\">\n",
       "      <th></th>\n",
       "      <th>category</th>\n",
       "      <th>brand</th>\n",
       "      <th>product</th>\n",
       "      <th>asin</th>\n",
       "    </tr>\n",
       "  </thead>\n",
       "  <tbody>\n",
       "    <tr>\n",
       "      <th>877</th>\n",
       "      <td>[Software, Children's, Games, &lt;/span&gt;&lt;/span&gt;&lt;/...</td>\n",
       "      <td>by\\n    \\n    SET Enterprises Inc.</td>\n",
       "      <td>SET:  The Computer Game - PC/Mac</td>\n",
       "      <td>B00000IV94</td>\n",
       "    </tr>\n",
       "    <tr>\n",
       "      <th>6028</th>\n",
       "      <td>[Software, Children's, Games, &lt;/span&gt;&lt;/span&gt;&lt;/...</td>\n",
       "      <td>by\\n    \\n    SET Enterprises Inc.</td>\n",
       "      <td>SET:  The Computer Game - PC/Mac</td>\n",
       "      <td>B00000IV94</td>\n",
       "    </tr>\n",
       "    <tr>\n",
       "      <th>6029</th>\n",
       "      <td>[Software, Children's, Games, &lt;/span&gt;&lt;/span&gt;&lt;/...</td>\n",
       "      <td>by\\n    \\n    LucasArts</td>\n",
       "      <td>Star Wars Episode 1: The Gungan Frontier - PC/Mac</td>\n",
       "      <td>B00000IWIZ</td>\n",
       "    </tr>\n",
       "    <tr>\n",
       "      <th>878</th>\n",
       "      <td>[Software, Children's, Games, &lt;/span&gt;&lt;/span&gt;&lt;/...</td>\n",
       "      <td>by\\n    \\n    LucasArts</td>\n",
       "      <td>Star Wars Episode 1: The Gungan Frontier - PC/Mac</td>\n",
       "      <td>B00000IWIZ</td>\n",
       "    </tr>\n",
       "    <tr>\n",
       "      <th>879</th>\n",
       "      <td>[Software, Education &amp;amp; Reference, Maps &amp;am...</td>\n",
       "      <td>Magellan</td>\n",
       "      <td>Magellan DataSend CD-ROM</td>\n",
       "      <td>B00000J0GM</td>\n",
       "    </tr>\n",
       "    <tr>\n",
       "      <th>...</th>\n",
       "      <td>...</td>\n",
       "      <td>...</td>\n",
       "      <td>...</td>\n",
       "      <td>...</td>\n",
       "    </tr>\n",
       "    <tr>\n",
       "      <th>6025</th>\n",
       "      <td>[Software, Children's, Early Learning]</td>\n",
       "      <td>The Learning Company</td>\n",
       "      <td>Yukon Trail</td>\n",
       "      <td>B0005MYHMU</td>\n",
       "    </tr>\n",
       "    <tr>\n",
       "      <th>6027</th>\n",
       "      <td>[Software, Children's, Early Learning]</td>\n",
       "      <td>Learning Company</td>\n",
       "      <td>Storybook Weaver Deluxe</td>\n",
       "      <td>B0005MYI4W</td>\n",
       "    </tr>\n",
       "    <tr>\n",
       "      <th>11178</th>\n",
       "      <td>[Software, Children's, Early Learning]</td>\n",
       "      <td>Learning Company</td>\n",
       "      <td>Storybook Weaver Deluxe</td>\n",
       "      <td>B0005MYI4W</td>\n",
       "    </tr>\n",
       "    <tr>\n",
       "      <th>6026</th>\n",
       "      <td>[Software, Children's]</td>\n",
       "      <td>The Learning Company</td>\n",
       "      <td>Africa Trail</td>\n",
       "      <td>B0005MYJ0A</td>\n",
       "    </tr>\n",
       "    <tr>\n",
       "      <th>11177</th>\n",
       "      <td>[Software, Children's]</td>\n",
       "      <td>The Learning Company</td>\n",
       "      <td>Africa Trail</td>\n",
       "      <td>B0005MYJ0A</td>\n",
       "    </tr>\n",
       "  </tbody>\n",
       "</table>\n",
       "<p>10302 rows × 4 columns</p>\n",
       "</div>"
      ],
      "text/plain": [
       "                                                category  \\\n",
       "877    [Software, Children's, Games, </span></span></...   \n",
       "6028   [Software, Children's, Games, </span></span></...   \n",
       "6029   [Software, Children's, Games, </span></span></...   \n",
       "878    [Software, Children's, Games, </span></span></...   \n",
       "879    [Software, Education &amp; Reference, Maps &am...   \n",
       "...                                                  ...   \n",
       "6025              [Software, Children's, Early Learning]   \n",
       "6027              [Software, Children's, Early Learning]   \n",
       "11178             [Software, Children's, Early Learning]   \n",
       "6026                              [Software, Children's]   \n",
       "11177                             [Software, Children's]   \n",
       "\n",
       "                                    brand  \\\n",
       "877    by\\n    \\n    SET Enterprises Inc.   \n",
       "6028   by\\n    \\n    SET Enterprises Inc.   \n",
       "6029              by\\n    \\n    LucasArts   \n",
       "878               by\\n    \\n    LucasArts   \n",
       "879                              Magellan   \n",
       "...                                   ...   \n",
       "6025                 The Learning Company   \n",
       "6027                     Learning Company   \n",
       "11178                    Learning Company   \n",
       "6026                 The Learning Company   \n",
       "11177                The Learning Company   \n",
       "\n",
       "                                                 product        asin  \n",
       "877                     SET:  The Computer Game - PC/Mac  B00000IV94  \n",
       "6028                    SET:  The Computer Game - PC/Mac  B00000IV94  \n",
       "6029   Star Wars Episode 1: The Gungan Frontier - PC/Mac  B00000IWIZ  \n",
       "878    Star Wars Episode 1: The Gungan Frontier - PC/Mac  B00000IWIZ  \n",
       "879                             Magellan DataSend CD-ROM  B00000J0GM  \n",
       "...                                                  ...         ...  \n",
       "6025                                         Yukon Trail  B0005MYHMU  \n",
       "6027                             Storybook Weaver Deluxe  B0005MYI4W  \n",
       "11178                            Storybook Weaver Deluxe  B0005MYI4W  \n",
       "6026                                        Africa Trail  B0005MYJ0A  \n",
       "11177                                       Africa Trail  B0005MYJ0A  \n",
       "\n",
       "[10302 rows x 4 columns]"
      ]
     },
     "execution_count": 13,
     "metadata": {},
     "output_type": "execute_result"
    }
   ],
   "source": [
    "# Find duplicated rows based on asin in Product metadata\n",
    "df_meta[df_meta.duplicated(subset=['asin'], keep=False)].sort_values(by=['asin'])"
   ]
  },
  {
   "cell_type": "code",
   "execution_count": 14,
   "id": "e7d6e3ce",
   "metadata": {},
   "outputs": [],
   "source": [
    "# Remove duplicated rows based on asin. Keep the first rows\n",
    "df_meta = df_meta.drop_duplicates(['asin'], keep='first')"
   ]
  },
  {
   "cell_type": "markdown",
   "id": "46edf80d",
   "metadata": {},
   "source": [
    "#### 6. Replace special characters"
   ]
  },
  {
   "cell_type": "code",
   "execution_count": 15,
   "id": "3129d8ae",
   "metadata": {},
   "outputs": [],
   "source": [
    "#-- 6. Replace special characters\n",
    "df_meta['product'] = df_meta['product'].str.replace('&amp;', '&')\n",
    "df_meta['brand'] = df_meta['brand'].str.replace('&amp;', '&')\n",
    "df_meta['brand'] = df_meta['brand'].str.replace(r'by\\n','', regex=True).str.strip()\n",
    "df_meta['brand'] = df_meta['brand'].str.replace('The','')"
   ]
  },
  {
   "cell_type": "markdown",
   "id": "68e2f643",
   "metadata": {},
   "source": [
    "#### 7. Update product category to single category"
   ]
  },
  {
   "cell_type": "code",
   "execution_count": 16,
   "id": "d04c596e",
   "metadata": {},
   "outputs": [],
   "source": [
    "#-- 7. Update product category to single category\n",
    "df_meta['category'] = df_meta['category'].apply(lambda x: x[1] if x else 'Unknown')\n",
    "df_meta['category'] = df_meta['category'].str.replace('&amp;', '&')"
   ]
  },
  {
   "cell_type": "markdown",
   "id": "f219db0a",
   "metadata": {},
   "source": [
    "#### 8. Merge to one new product review data "
   ]
  },
  {
   "cell_type": "code",
   "execution_count": 17,
   "id": "31a7057e",
   "metadata": {},
   "outputs": [],
   "source": [
    "#-- 8. Merge to one new product review data \n",
    "review2 = pd.merge(df_product,df_meta,on='asin',how='left')"
   ]
  },
  {
   "cell_type": "markdown",
   "id": "14f295e8",
   "metadata": {},
   "source": [
    "#### Verify"
   ]
  },
  {
   "cell_type": "code",
   "execution_count": 18,
   "id": "1d56976d",
   "metadata": {},
   "outputs": [
    {
     "name": "stdout",
     "output_type": "stream",
     "text": [
      "<class 'pandas.core.frame.DataFrame'>\n",
      "Int64Index: 450863 entries, 0 to 450862\n",
      "Data columns (total 9 columns):\n",
      " #   Column      Non-Null Count   Dtype         \n",
      "---  ------      --------------   -----         \n",
      " 0   rating      450863 non-null  int64         \n",
      " 1   reviewerID  450863 non-null  object        \n",
      " 2   reviewTime  450863 non-null  datetime64[ns]\n",
      " 3   asin        450863 non-null  object        \n",
      " 4   vote        450863 non-null  int16         \n",
      " 5   reviewFull  450863 non-null  object        \n",
      " 6   category    450540 non-null  object        \n",
      " 7   brand       450540 non-null  object        \n",
      " 8   product     450540 non-null  object        \n",
      "dtypes: datetime64[ns](1), int16(1), int64(1), object(6)\n",
      "memory usage: 31.8+ MB\n"
     ]
    }
   ],
   "source": [
    "# Check nan values\n",
    "review2.info()"
   ]
  },
  {
   "cell_type": "markdown",
   "id": "a6e05c83",
   "metadata": {},
   "source": [
    "##### As we can see here, after cleaning, removing duplicated rows, and merging two datasets, we still have some null values in category, brand and product columns. We will handle these null values."
   ]
  },
  {
   "cell_type": "code",
   "execution_count": 19,
   "id": "7f859a6a",
   "metadata": {},
   "outputs": [],
   "source": [
    "# Replace nan values with 'Unknown' string\n",
    "review2[['category', 'brand', 'product']] = review2[['category', 'brand', 'product']].fillna('Unknown')"
   ]
  },
  {
   "cell_type": "code",
   "execution_count": 20,
   "id": "1c99423c",
   "metadata": {},
   "outputs": [],
   "source": [
    "# Add more columns reviewLength, reviewYear, rename reviewFull column, and arrange the column order\n",
    "review2['reviewYear'] = review2['reviewTime'].dt.year\n",
    "review2['reviewLength'] = review2['reviewFull'].str.len()\n",
    "review2 = review2.rename({'reviewFull':'reviewText'}, axis='columns').copy()\n",
    "review2 = review2[['rating','reviewerID','reviewTime','reviewYear','asin','vote','reviewText','reviewLength','category','brand','product']].copy()"
   ]
  },
  {
   "cell_type": "code",
   "execution_count": 21,
   "id": "28ee26ba",
   "metadata": {},
   "outputs": [
    {
     "name": "stdout",
     "output_type": "stream",
     "text": [
      "<class 'pandas.core.frame.DataFrame'>\n",
      "Int64Index: 450863 entries, 0 to 450862\n",
      "Data columns (total 11 columns):\n",
      " #   Column        Non-Null Count   Dtype         \n",
      "---  ------        --------------   -----         \n",
      " 0   rating        450863 non-null  int64         \n",
      " 1   reviewerID    450863 non-null  object        \n",
      " 2   reviewTime    450863 non-null  datetime64[ns]\n",
      " 3   reviewYear    450863 non-null  int64         \n",
      " 4   asin          450863 non-null  object        \n",
      " 5   vote          450863 non-null  int16         \n",
      " 6   reviewText    450863 non-null  object        \n",
      " 7   reviewLength  450863 non-null  int64         \n",
      " 8   category      450863 non-null  object        \n",
      " 9   brand         450863 non-null  object        \n",
      " 10  product       450863 non-null  object        \n",
      "dtypes: datetime64[ns](1), int16(1), int64(3), object(6)\n",
      "memory usage: 38.7+ MB\n"
     ]
    }
   ],
   "source": [
    "# Verify nan values\n",
    "review2.info()"
   ]
  },
  {
   "cell_type": "markdown",
   "id": "10ff3db3",
   "metadata": {},
   "source": [
    "##### Now, we have a pretty good dataset with 450863 records for EDA. And here is the final review data sample"
   ]
  },
  {
   "cell_type": "code",
   "execution_count": 22,
   "id": "d8fecad0",
   "metadata": {},
   "outputs": [
    {
     "data": {
      "text/html": [
       "<div>\n",
       "<style scoped>\n",
       "    .dataframe tbody tr th:only-of-type {\n",
       "        vertical-align: middle;\n",
       "    }\n",
       "\n",
       "    .dataframe tbody tr th {\n",
       "        vertical-align: top;\n",
       "    }\n",
       "\n",
       "    .dataframe thead th {\n",
       "        text-align: right;\n",
       "    }\n",
       "</style>\n",
       "<table border=\"1\" class=\"dataframe\">\n",
       "  <thead>\n",
       "    <tr style=\"text-align: right;\">\n",
       "      <th></th>\n",
       "      <th>rating</th>\n",
       "      <th>reviewerID</th>\n",
       "      <th>reviewTime</th>\n",
       "      <th>reviewYear</th>\n",
       "      <th>asin</th>\n",
       "      <th>vote</th>\n",
       "      <th>reviewText</th>\n",
       "      <th>reviewLength</th>\n",
       "      <th>category</th>\n",
       "      <th>brand</th>\n",
       "      <th>product</th>\n",
       "    </tr>\n",
       "  </thead>\n",
       "  <tbody>\n",
       "    <tr>\n",
       "      <th>0</th>\n",
       "      <td>4</td>\n",
       "      <td>A240ORQ2LF9LUI</td>\n",
       "      <td>2014-03-11</td>\n",
       "      <td>2014</td>\n",
       "      <td>0077613252</td>\n",
       "      <td>0</td>\n",
       "      <td>The materials arrived early and were in excell...</td>\n",
       "      <td>169</td>\n",
       "      <td>Unknown</td>\n",
       "      <td>McGraw-Hill Humanities/Social Sciences/Languages</td>\n",
       "      <td>Connect Personal Health with LearnSmart 1 Seme...</td>\n",
       "    </tr>\n",
       "    <tr>\n",
       "      <th>1</th>\n",
       "      <td>4</td>\n",
       "      <td>A1YCCU0YRLS0FE</td>\n",
       "      <td>2014-02-23</td>\n",
       "      <td>2014</td>\n",
       "      <td>0077613252</td>\n",
       "      <td>0</td>\n",
       "      <td>I am really enjoying this book with the worksh...</td>\n",
       "      <td>173</td>\n",
       "      <td>Unknown</td>\n",
       "      <td>McGraw-Hill Humanities/Social Sciences/Languages</td>\n",
       "      <td>Connect Personal Health with LearnSmart 1 Seme...</td>\n",
       "    </tr>\n",
       "    <tr>\n",
       "      <th>2</th>\n",
       "      <td>1</td>\n",
       "      <td>A1BJHRQDYVAY2J</td>\n",
       "      <td>2014-02-17</td>\n",
       "      <td>2014</td>\n",
       "      <td>0077613252</td>\n",
       "      <td>7</td>\n",
       "      <td>IF YOU ARE TAKING THIS CLASS DON\"T WASTE YOUR ...</td>\n",
       "      <td>312</td>\n",
       "      <td>Unknown</td>\n",
       "      <td>McGraw-Hill Humanities/Social Sciences/Languages</td>\n",
       "      <td>Connect Personal Health with LearnSmart 1 Seme...</td>\n",
       "    </tr>\n",
       "  </tbody>\n",
       "</table>\n",
       "</div>"
      ],
      "text/plain": [
       "   rating      reviewerID reviewTime  reviewYear        asin  vote  \\\n",
       "0       4  A240ORQ2LF9LUI 2014-03-11        2014  0077613252     0   \n",
       "1       4  A1YCCU0YRLS0FE 2014-02-23        2014  0077613252     0   \n",
       "2       1  A1BJHRQDYVAY2J 2014-02-17        2014  0077613252     7   \n",
       "\n",
       "                                          reviewText  reviewLength category  \\\n",
       "0  The materials arrived early and were in excell...           169  Unknown   \n",
       "1  I am really enjoying this book with the worksh...           173  Unknown   \n",
       "2  IF YOU ARE TAKING THIS CLASS DON\"T WASTE YOUR ...           312  Unknown   \n",
       "\n",
       "                                              brand  \\\n",
       "0  McGraw-Hill Humanities/Social Sciences/Languages   \n",
       "1  McGraw-Hill Humanities/Social Sciences/Languages   \n",
       "2  McGraw-Hill Humanities/Social Sciences/Languages   \n",
       "\n",
       "                                             product  \n",
       "0  Connect Personal Health with LearnSmart 1 Seme...  \n",
       "1  Connect Personal Health with LearnSmart 1 Seme...  \n",
       "2  Connect Personal Health with LearnSmart 1 Seme...  "
      ]
     },
     "execution_count": 22,
     "metadata": {},
     "output_type": "execute_result"
    }
   ],
   "source": [
    "# Final Review data sample\n",
    "review2.head(3)"
   ]
  },
  {
   "cell_type": "markdown",
   "id": "67fb9502",
   "metadata": {},
   "source": [
    "### !!! Hoorey !!! Review data is ready for EDA now !!!! "
   ]
  },
  {
   "cell_type": "markdown",
   "id": "fdf86c0f",
   "metadata": {},
   "source": [
    "### 2.4. Exploratory Data Analysis  <a class=\"anchor\" id=\"2.4-bullet\"></a>\n",
    "In this part, we will explore below information:\n",
    "- The number of reviews by rating\n",
    "- The number of votes by rating\n",
    "- The number of reviews by year\n",
    "- Top 10 most reviewed brands, categories, products\n",
    "- Top 10 most 5-star rated brands, categories, products\n",
    "- The correlation between rating, vote, and reviewLength\n"
   ]
  },
  {
   "cell_type": "markdown",
   "id": "4de01bd0",
   "metadata": {},
   "source": [
    "##### 1. The number of reviews by rating"
   ]
  },
  {
   "cell_type": "code",
   "execution_count": 23,
   "id": "2d1a88eb",
   "metadata": {},
   "outputs": [
    {
     "data": {
      "image/png": "[encoded data removed]",
      "text/plain": [
       "<Figure size 432x288 with 1 Axes>"
      ]
     },
     "metadata": {
      "needs_background": "light"
     },
     "output_type": "display_data"
    },
    {
     "name": "stdout",
     "output_type": "stream",
     "text": [
      "5-star rating held the highest number of reviews, followed by 1-star.\n",
      "The customer are the straight reviewers, aren't they?\n",
      "It seems to be like if they were happy then 5-star, if not, 1-star.\n"
     ]
    }
   ],
   "source": [
    "review2['rating'].value_counts().sort_index().plot(kind='bar')\n",
    "plt.title('The number of reviews by rating')\n",
    "plt.xlabel('Rating')\n",
    "plt.xticks(rotation=0)\n",
    "plt.ylabel('Number of Reviews')\n",
    "plt.grid(axis = 'y', linestyle = '--', linewidth = 0.5)\n",
    "plt.show()\n",
    "print (\"5-star rating held the highest number of reviews, followed by 1-star.\")\n",
    "print (\"The customer are the straight reviewers, aren't they?\")\n",
    "print (\"It seems to be like if they were happy then 5-star, if not, 1-star.\")"
   ]
  },
  {
   "cell_type": "markdown",
   "id": "4220b9ca",
   "metadata": {},
   "source": [
    "##### 2. The number of votes by rating"
   ]
  },
  {
   "cell_type": "code",
   "execution_count": 24,
   "id": "2035030f",
   "metadata": {},
   "outputs": [
    {
     "data": {
      "image/png": "[encoded data removed]",
      "text/plain": [
       "<Figure size 432x288 with 1 Axes>"
      ]
     },
     "metadata": {
      "needs_background": "light"
     },
     "output_type": "display_data"
    },
    {
     "name": "stdout",
     "output_type": "stream",
     "text": [
      "However, 1-star rating held the highest number of votes.\n",
      "The number was seen much higher than 5-star, standing at the 2nd position.\n",
      "It is seems to be like a lot of customers had the same bad experience \n"
     ]
    }
   ],
   "source": [
    "review2.groupby('rating')['vote'].sum().sort_index().plot(kind='bar')\n",
    "plt.title('The number of votes by rating')\n",
    "plt.xlabel('Rating')\n",
    "plt.xticks(rotation=0)\n",
    "plt.ylabel('Number of Votes')\n",
    "plt.grid(axis = 'y', linestyle = '--', linewidth = 0.5)\n",
    "plt.show()\n",
    "print (\"However, 1-star rating held the highest number of votes.\")\n",
    "print (\"The number was seen much higher than 5-star, standing at the 2nd position.\") \n",
    "print (\"It is seems to be like a lot of customers had the same bad experience \")"
   ]
  },
  {
   "cell_type": "markdown",
   "id": "64e5b0dc",
   "metadata": {},
   "source": [
    "##### 2. The number of reviews by year"
   ]
  },
  {
   "cell_type": "code",
   "execution_count": 25,
   "id": "52d47e5e",
   "metadata": {},
   "outputs": [
    {
     "data": {
      "image/png": "[encoded data removed]",
      "text/plain": [
       "<Figure size 864x432 with 1 Axes>"
      ]
     },
     "metadata": {
      "needs_background": "light"
     },
     "output_type": "display_data"
    },
    {
     "name": "stdout",
     "output_type": "stream",
     "text": [
      "The reviews was increasing remarkly from 2013 to 2016\n",
      "It will be very helpful if we have sales data here to investigate this interesting point.\n"
     ]
    }
   ],
   "source": [
    "plt.figure(figsize=(12,6))\n",
    "review2['reviewYear'].value_counts().sort_index().plot(kind='bar')\n",
    "plt.title('The number of reviews by year')\n",
    "plt.xlabel('Year')\n",
    "plt.xticks(rotation=0)\n",
    "plt.ylabel('Number of Reviews')\n",
    "plt.grid(axis = 'y', linestyle = '--', linewidth = 0.5)\n",
    "plt.show()\n",
    "print (\"The reviews was increasing remarkly from 2013 to 2016\")\n",
    "print (\"It will be very helpful if we have sales data here to investigate this interesting point.\")"
   ]
  },
  {
   "cell_type": "markdown",
   "id": "be5b140b",
   "metadata": {},
   "source": [
    "##### 4. Top 10 most reviewed brands"
   ]
  },
  {
   "cell_type": "code",
   "execution_count": 26,
   "id": "88ab5ff8",
   "metadata": {},
   "outputs": [
    {
     "data": {
      "image/png": "[encoded data removed]",
      "text/plain": [
       "<Figure size 720x432 with 1 Axes>"
      ]
     },
     "metadata": {
      "needs_background": "light"
     },
     "output_type": "display_data"
    },
    {
     "name": "stdout",
     "output_type": "stream",
     "text": [
      "Intuit, Microsoft and Symantec are the top brands having highest number of reviews\n",
      "We will see whether they were the brands getting most 5-star ratings\n"
     ]
    }
   ],
   "source": [
    "brands = review2['brand'].value_counts()\n",
    "plt.figure(figsize=(10,6))\n",
    "brands[:10].sort_values().plot(kind='barh')\n",
    "plt.title('Top 10 most reviewed brands')  \n",
    "plt.xlabel('Number of Reviews')\n",
    "plt.ylabel('Brand')\n",
    "plt.grid(axis = 'x', linestyle = '--', linewidth = 0.5)\n",
    "plt.show()\n",
    "print (\"Intuit, Microsoft and Symantec are the top brands having highest number of reviews\")\n",
    "print (\"We will see whether they were the brands getting most 5-star ratings\")"
   ]
  },
  {
   "cell_type": "markdown",
   "id": "242ab538",
   "metadata": {},
   "source": [
    "##### 5. Top 10 most 5-star rated brands"
   ]
  },
  {
   "cell_type": "code",
   "execution_count": 27,
   "id": "6241c6db",
   "metadata": {},
   "outputs": [
    {
     "data": {
      "image/png": "[encoded data removed]",
      "text/plain": [
       "<Figure size 720x432 with 1 Axes>"
      ]
     },
     "metadata": {
      "needs_background": "light"
     },
     "output_type": "display_data"
    },
    {
     "name": "stdout",
     "output_type": "stream",
     "text": [
      "Oh yes, Intuit,Microsoft and Symantec are the top 3 brands having most 5-star ratings\n"
     ]
    }
   ],
   "source": [
    "brands = review2[review2['rating']==5]['brand'].value_counts()\n",
    "plt.figure(figsize=(10,6))\n",
    "brands[:10].sort_values().plot(kind='barh')\n",
    "plt.title('Top 10 most 5-star rated brands')  \n",
    "plt.xlabel('Number of Reviews')\n",
    "plt.ylabel('Brand')\n",
    "plt.grid(axis = 'x', linestyle = '--', linewidth = 0.5)\n",
    "plt.show()\n",
    "print (\"Oh yes, Intuit,Microsoft and Symantec are the top 3 brands having most 5-star ratings\")"
   ]
  },
  {
   "cell_type": "markdown",
   "id": "5cfaa818",
   "metadata": {},
   "source": [
    "##### 5. Top 10 most reviewed categories"
   ]
  },
  {
   "cell_type": "code",
   "execution_count": 28,
   "id": "6bddbcca",
   "metadata": {},
   "outputs": [
    {
     "data": {
      "image/png": "[encoded data removed]",
      "text/plain": [
       "<Figure size 720x432 with 1 Axes>"
      ]
     },
     "metadata": {
      "needs_background": "light"
     },
     "output_type": "display_data"
    },
    {
     "name": "stdout",
     "output_type": "stream",
     "text": [
      "Digital Software, Antivirus & Security, and Business % Office are top 3 product categories getting most reviews\n"
     ]
    }
   ],
   "source": [
    "categories = review2[review2.category != 'Unknown']['category'].value_counts()\n",
    "plt.figure(figsize=(10,6))\n",
    "categories[:10].sort_values().plot(kind='barh')\n",
    "plt.title('Top 10 most reviewed categoriess')  \n",
    "plt.xlabel('Number of Reviews')\n",
    "plt.ylabel('Category')\n",
    "plt.grid(axis = 'x', linestyle = '--', linewidth = 0.5)\n",
    "plt.show()\n",
    "print (\"Digital Software, Antivirus & Security, and Business % Office are top 3 product categories getting most reviews\")"
   ]
  },
  {
   "cell_type": "markdown",
   "id": "0669953a",
   "metadata": {},
   "source": [
    "##### 6. Top 10 most reviewed products"
   ]
  },
  {
   "cell_type": "code",
   "execution_count": 29,
   "id": "0c271cbd",
   "metadata": {},
   "outputs": [
    {
     "data": {
      "image/png": "[encoded data removed]",
      "text/plain": [
       "<Figure size 720x432 with 1 Axes>"
      ]
     },
     "metadata": {
      "needs_background": "light"
     },
     "output_type": "display_data"
    },
    {
     "name": "stdout",
     "output_type": "stream",
     "text": [
      "And Kindle for PC, Amazon Music PC, and Turbotax are top products getting reviews\n"
     ]
    }
   ],
   "source": [
    "products = review2['product'].value_counts()\n",
    "plt.figure(figsize=(10,6))\n",
    "products[:10].sort_values().plot(kind='barh')\n",
    "plt.title('Top 10 most reviewed products')  \n",
    "plt.xlabel('Number of Reviews')\n",
    "plt.ylabel('Product')\n",
    "plt.grid(axis = 'x', linestyle = '--', linewidth = 0.5)\n",
    "plt.show()\n",
    "print (\"And Kindle for PC, Amazon Music PC, and Turbotax are top products getting reviews\")"
   ]
  },
  {
   "cell_type": "markdown",
   "id": "74f819cf",
   "metadata": {},
   "source": [
    "##### 7. Correlation between rating, vote and reviewLength"
   ]
  },
  {
   "cell_type": "code",
   "execution_count": 30,
   "id": "14f962fc",
   "metadata": {},
   "outputs": [
    {
     "data": {
      "image/png": "[encoded data removed]",
      "text/plain": [
       "<Figure size 864x576 with 9 Axes>"
      ]
     },
     "metadata": {
      "needs_background": "light"
     },
     "output_type": "display_data"
    },
    {
     "name": "stdout",
     "output_type": "stream",
     "text": [
      "There was no clear correlation between rating and vote except 1-star rating had the highest number of votes\n",
      "There was also no clear correlation between rating and review length except 5-star and 4-star, had the longest reviews\n",
      "However, there was a correlation between vote and review length. Customers seems to vote for shorter reviews rather than longer ones \n"
     ]
    }
   ],
   "source": [
    "# This line of code takes around 15-20s to complete\n",
    "attributes = [\"rating\", \"vote\", \"reviewLength\"]\n",
    "scatter_matrix(review2[attributes], figsize=(12, 8))\n",
    "plt.show()\n",
    "print (\"There was no clear correlation between rating and vote except 1-star rating had the highest number of votes\")\n",
    "print (\"There was also no clear correlation between rating and review length except 5-star and 4-star, had the longest reviews\")\n",
    "print (\"However, there was a correlation between vote and review length. Customers seems to vote for shorter reviews rather than longer ones \")"
   ]
  },
  {
   "cell_type": "markdown",
   "id": "9c4c5fae",
   "metadata": {},
   "source": [
    "### 2.5. Verify Data Quality  <a class=\"anchor\" id=\"2.5-bullet\"></a>\n",
    "We completed the EDA step with several interesting insights. In this project, we focus on reviewText and rating for rating classification prediction. Therefore, in the last step of the Data Understanding phase, we will verify the data quality of these columns."
   ]
  },
  {
   "cell_type": "code",
   "execution_count": 31,
   "id": "1b39001d",
   "metadata": {},
   "outputs": [
    {
     "data": {
      "text/plain": [
       "0"
      ]
     },
     "execution_count": 31,
     "metadata": {},
     "output_type": "execute_result"
    }
   ],
   "source": [
    "# Missing reviewText values \n",
    "review2['reviewText'].isnull().sum()"
   ]
  },
  {
   "cell_type": "code",
   "execution_count": 32,
   "id": "dedd4aef",
   "metadata": {},
   "outputs": [
    {
     "data": {
      "text/plain": [
       "0"
      ]
     },
     "execution_count": 32,
     "metadata": {},
     "output_type": "execute_result"
    }
   ],
   "source": [
    "# Isna reviewText values\n",
    "review2['reviewText'].isna().sum()"
   ]
  },
  {
   "cell_type": "code",
   "execution_count": 33,
   "id": "22436d3a",
   "metadata": {},
   "outputs": [
    {
     "data": {
      "text/plain": [
       "0"
      ]
     },
     "execution_count": 33,
     "metadata": {},
     "output_type": "execute_result"
    }
   ],
   "source": [
    "# Missing rating values \n",
    "review2['rating'].isnull().sum()"
   ]
  },
  {
   "cell_type": "code",
   "execution_count": 34,
   "id": "1800dbec",
   "metadata": {},
   "outputs": [
    {
     "data": {
      "text/plain": [
       "0"
      ]
     },
     "execution_count": 34,
     "metadata": {},
     "output_type": "execute_result"
    }
   ],
   "source": [
    "# isna rating values\n",
    "review2['rating'].isna().sum()"
   ]
  },
  {
   "cell_type": "code",
   "execution_count": 35,
   "id": "3dc49d7c",
   "metadata": {},
   "outputs": [
    {
     "data": {
      "text/html": [
       "<div>\n",
       "<style scoped>\n",
       "    .dataframe tbody tr th:only-of-type {\n",
       "        vertical-align: middle;\n",
       "    }\n",
       "\n",
       "    .dataframe tbody tr th {\n",
       "        vertical-align: top;\n",
       "    }\n",
       "\n",
       "    .dataframe thead th {\n",
       "        text-align: right;\n",
       "    }\n",
       "</style>\n",
       "<table border=\"1\" class=\"dataframe\">\n",
       "  <thead>\n",
       "    <tr style=\"text-align: right;\">\n",
       "      <th></th>\n",
       "      <th>rating</th>\n",
       "      <th>reviewText</th>\n",
       "    </tr>\n",
       "  </thead>\n",
       "  <tbody>\n",
       "    <tr>\n",
       "      <th>0</th>\n",
       "      <td>4</td>\n",
       "      <td>The materials arrived early and were in excellent condition.  However for the money spent they really should've come with a binder and not just loose leaf.Material Great</td>\n",
       "    </tr>\n",
       "    <tr>\n",
       "      <th>1</th>\n",
       "      <td>4</td>\n",
       "      <td>I am really enjoying this book with the worksheets that make you review your goals, what to do when you do not make it, it reminds me  of my human sexuality classwork.Health</td>\n",
       "    </tr>\n",
       "    <tr>\n",
       "      <th>2</th>\n",
       "      <td>1</td>\n",
       "      <td>IF YOU ARE TAKING THIS CLASS DON\"T WASTE YOUR MONEY ON THIS SO CALLED BOOK! $140.00 FOR A \"BOOK\" THAT ISIN'T EVEN BOUND LOOSE LEAFS, THAT I HAD TO PROVIDE MY OWN BINDER FOR. TURNS OUT YOU CAN BUY ACCESS TO THE BOOK AT MCGRAW HILL CONNECT CORE FOR $70.00\\n\\nTHIS BOOK IS A COMPLETE WASTE OF MONEY!ARE YOU KIDING ME?</td>\n",
       "    </tr>\n",
       "    <tr>\n",
       "      <th>3</th>\n",
       "      <td>3</td>\n",
       "      <td>This book was missing pages!!! Important pages. I couldn't answer some test questions because of it!! I have never had this happen before.missing pages!!</td>\n",
       "    </tr>\n",
       "    <tr>\n",
       "      <th>4</th>\n",
       "      <td>5</td>\n",
       "      <td>I have used LearnSmart and can officially say that this is an amazing study tool that quickly and simply adapts to your style of learning. You can access it at anytime and it is on the go! Once you start using LearnSmart you will quickly realize that this is the best way to learn and study.\\n\\nI am a business student and I did not use LearnSmart for my Accounting I class, however, I did use it for my Accounting II class. The grade difference from Accounting I to Accounting II was a whole letter grade... thanks to LearnSmart!\\n\\nEvery college student should definitely check it out!Best study product out there!</td>\n",
       "    </tr>\n",
       "    <tr>\n",
       "      <th>...</th>\n",
       "      <td>...</td>\n",
       "      <td>...</td>\n",
       "    </tr>\n",
       "    <tr>\n",
       "      <th>450858</th>\n",
       "      <td>2</td>\n",
       "      <td>No instructions.....No Help unless you want to PAY for helpTwo Stars</td>\n",
       "    </tr>\n",
       "    <tr>\n",
       "      <th>450859</th>\n",
       "      <td>1</td>\n",
       "      <td>it's a jokeOne Star</td>\n",
       "    </tr>\n",
       "    <tr>\n",
       "      <th>450860</th>\n",
       "      <td>5</td>\n",
       "      <td>I have multiple licenses of the Antivirus. I have been using for over 2 years and have found this quite effective.This is very effective antivirus software.</td>\n",
       "    </tr>\n",
       "    <tr>\n",
       "      <th>450861</th>\n",
       "      <td>5</td>\n",
       "      <td>good valueFive Stars</td>\n",
       "    </tr>\n",
       "    <tr>\n",
       "      <th>450862</th>\n",
       "      <td>5</td>\n",
       "      <td>very nice designs easy to use.Five Stars</td>\n",
       "    </tr>\n",
       "  </tbody>\n",
       "</table>\n",
       "<p>450863 rows × 2 columns</p>\n",
       "</div>"
      ],
      "text/plain": [
       "        rating  \\\n",
       "0            4   \n",
       "1            4   \n",
       "2            1   \n",
       "3            3   \n",
       "4            5   \n",
       "...        ...   \n",
       "450858       2   \n",
       "450859       1   \n",
       "450860       5   \n",
       "450861       5   \n",
       "450862       5   \n",
       "\n",
       "                                                                                                                                                                                                                                                                                                                                                                                                                                                                                                                                                                                                                                      reviewText  \n",
       "0                                                                                                                                                                                                                                                                                                                                                                                                                                                                      The materials arrived early and were in excellent condition.  However for the money spent they really should've come with a binder and not just loose leaf.Material Great  \n",
       "1                                                                                                                                                                                                                                                                                                                                                                                                                                                                  I am really enjoying this book with the worksheets that make you review your goals, what to do when you do not make it, it reminds me  of my human sexuality classwork.Health  \n",
       "2                                                                                                                                                                                                                                                                                                                     IF YOU ARE TAKING THIS CLASS DON\"T WASTE YOUR MONEY ON THIS SO CALLED BOOK! $140.00 FOR A \"BOOK\" THAT ISIN'T EVEN BOUND LOOSE LEAFS, THAT I HAD TO PROVIDE MY OWN BINDER FOR. TURNS OUT YOU CAN BUY ACCESS TO THE BOOK AT MCGRAW HILL CONNECT CORE FOR $70.00\\n\\nTHIS BOOK IS A COMPLETE WASTE OF MONEY!ARE YOU KIDING ME?  \n",
       "3                                                                                                                                                                                                                                                                                                                                                                                                                                                                                      This book was missing pages!!! Important pages. I couldn't answer some test questions because of it!! I have never had this happen before.missing pages!!  \n",
       "4       I have used LearnSmart and can officially say that this is an amazing study tool that quickly and simply adapts to your style of learning. You can access it at anytime and it is on the go! Once you start using LearnSmart you will quickly realize that this is the best way to learn and study.\\n\\nI am a business student and I did not use LearnSmart for my Accounting I class, however, I did use it for my Accounting II class. The grade difference from Accounting I to Accounting II was a whole letter grade... thanks to LearnSmart!\\n\\nEvery college student should definitely check it out!Best study product out there!  \n",
       "...                                                                                                                                                                                                                                                                                                                                                                                                                                                                                                                                                                                                                                          ...  \n",
       "450858                                                                                                                                                                                                                                                                                                                                                                                                                                                                                                                                                                      No instructions.....No Help unless you want to PAY for helpTwo Stars  \n",
       "450859                                                                                                                                                                                                                                                                                                                                                                                                                                                                                                                                                                                                                       it's a jokeOne Star  \n",
       "450860                                                                                                                                                                                                                                                                                                                                                                                                                                                                              I have multiple licenses of the Antivirus. I have been using for over 2 years and have found this quite effective.This is very effective antivirus software.  \n",
       "450861                                                                                                                                                                                                                                                                                                                                                                                                                                                                                                                                                                                                                      good valueFive Stars  \n",
       "450862                                                                                                                                                                                                                                                                                                                                                                                                                                                                                                                                                                                                  very nice designs easy to use.Five Stars  \n",
       "\n",
       "[450863 rows x 2 columns]"
      ]
     },
     "execution_count": 35,
     "metadata": {},
     "output_type": "execute_result"
    }
   ],
   "source": [
    "# View full reviewText\n",
    "pd.set_option('display.max_colwidth', None)\n",
    "review2.loc[:,['rating','reviewText']]"
   ]
  },
  {
   "cell_type": "markdown",
   "id": "393c1486",
   "metadata": {},
   "source": [
    "#### Data Quality \n",
    "Although there are no missing or nan values in rating and reviewText columns, however, we can easily see that the data quality for reviewText is not clean enough for modeling.\n",
    "\n",
    "We will clean, transform and format reviewText in the next step - 03.Data Preparation\n"
   ]
  },
  {
   "cell_type": "markdown",
   "id": "f0bbe661",
   "metadata": {},
   "source": [
    "### Export to json file stored in /Output folder for next step"
   ]
  },
  {
   "cell_type": "code",
   "execution_count": 36,
   "id": "ff1cbc26",
   "metadata": {},
   "outputs": [],
   "source": [
    "review2.to_json('Output/reviewEDA.json', orient='records', lines=True)"
   ]
  },
  {
   "cell_type": "markdown",
   "id": "d413ab0e",
   "metadata": {},
   "source": [
    "#### Now, we completed the phase 02. Data Understanding. \n",
    "Go to the next step [03.Data Preparation Notebook](CA_TanThienNguyen_C00278719_03_DataPreparation.ipynb)"
   ]
  }
 ],
 "metadata": {
  "kernelspec": {
   "display_name": "Python 3 (ipykernel)",
   "language": "python",
   "name": "python3"
  },
  "language_info": {
   "codemirror_mode": {
    "name": "ipython",
    "version": 3
   },
   "file_extension": ".py",
   "mimetype": "text/x-python",
   "name": "python",
   "nbconvert_exporter": "python",
   "pygments_lexer": "ipython3",
   "version": "3.9.7"
  }
 },
 "nbformat": 4,
 "nbformat_minor": 5
}
